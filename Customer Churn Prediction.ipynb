{
 "cells": [
  {
   "cell_type": "markdown",
   "id": "118a158c",
   "metadata": {},
   "source": [
    " 1. Import Libraries"
   ]
  },
  {
   "cell_type": "code",
   "execution_count": 1,
   "id": "e1ac5db8",
   "metadata": {},
   "outputs": [],
   "source": [
    "# Basic & Visualization\n",
    "import pandas as pd\n",
    "import numpy as np\n",
    "import matplotlib.pyplot as plt\n",
    "import seaborn as sns\n",
    "import plotly.express as px\n",
    "\n",
    "# Preprocessing & Modeling\n",
    "from sklearn.model_selection import train_test_split, cross_val_score\n",
    "from sklearn.preprocessing import StandardScaler\n",
    "from sklearn.linear_model import LogisticRegression\n",
    "from sklearn.ensemble import RandomForestClassifier\n",
    "from xgboost import XGBClassifier\n",
    "\n",
    "# Evaluation\n",
    "from sklearn.metrics import classification_report, confusion_matrix, roc_auc_score, precision_score, recall_score, f1_score\n",
    "\n",
    "# Imbalanced data\n",
    "from imblearn.over_sampling import SMOTE\n",
    "\n",
    "# Bayesian Optimization\n",
    "from skopt import BayesSearchCV\n",
    "from skopt.space import Real, Integer\n",
    "\n",
    "import warnings\n",
    "warnings.filterwarnings(\"ignore\")\n"
   ]
  },
  {
   "cell_type": "markdown",
   "id": "2c1252b4",
   "metadata": {},
   "source": [
    "📊 2. Load & Clean Dataset"
   ]
  },
  {
   "cell_type": "code",
   "execution_count": 2,
   "id": "c3622300",
   "metadata": {},
   "outputs": [
    {
     "name": "stdout",
     "output_type": "stream",
     "text": [
      "Final Shape: (7032, 31)\n"
     ]
    }
   ],
   "source": [
    "df = pd.read_csv(r\"c:\\Users\\admin\\Downloads\\archive (3)\\WA_Fn-UseC_-Telco-Customer-Churn\\WA_Fn-UseC_-Telco-Customer-Churn.csv\")\n",
    "\n",
    "# Convert TotalCharges to numeric\n",
    "df['TotalCharges'] = pd.to_numeric(df['TotalCharges'], errors='coerce')\n",
    "df.dropna(inplace=True)\n",
    "\n",
    "# Drop customerID\n",
    "df.drop('customerID', axis=1, inplace=True)\n",
    "\n",
    "# Binary Mapping\n",
    "binary_cols = ['Partner', 'Dependents', 'PhoneService', 'PaperlessBilling', 'Churn']\n",
    "for col in binary_cols:\n",
    "    df[col] = df[col].map({'Yes': 1, 'No': 0})\n",
    "\n",
    "# One-hot encode remaining\n",
    "df = pd.get_dummies(df, drop_first=True)\n",
    "\n",
    "print(\"Final Shape:\", df.shape)\n"
   ]
  },
  {
   "cell_type": "code",
   "execution_count": 3,
   "id": "80f0ba6f",
   "metadata": {},
   "outputs": [
    {
     "name": "stdout",
     "output_type": "stream",
     "text": [
      "(7032, 31)\n",
      "['SeniorCitizen', 'Partner', 'Dependents', 'tenure', 'PhoneService', 'PaperlessBilling', 'MonthlyCharges', 'TotalCharges', 'Churn', 'gender_Male', 'MultipleLines_No phone service', 'MultipleLines_Yes', 'InternetService_Fiber optic', 'InternetService_No', 'OnlineSecurity_No internet service', 'OnlineSecurity_Yes', 'OnlineBackup_No internet service', 'OnlineBackup_Yes', 'DeviceProtection_No internet service', 'DeviceProtection_Yes', 'TechSupport_No internet service', 'TechSupport_Yes', 'StreamingTV_No internet service', 'StreamingTV_Yes', 'StreamingMovies_No internet service', 'StreamingMovies_Yes', 'Contract_One year', 'Contract_Two year', 'PaymentMethod_Credit card (automatic)', 'PaymentMethod_Electronic check', 'PaymentMethod_Mailed check']\n"
     ]
    }
   ],
   "source": [
    "print(df.shape)\n",
    "print(df.columns.tolist())\n"
   ]
  },
  {
   "cell_type": "code",
   "execution_count": 4,
   "id": "138adffd",
   "metadata": {},
   "outputs": [
    {
     "data": {
      "text/html": [
       "<div>\n",
       "<style scoped>\n",
       "    .dataframe tbody tr th:only-of-type {\n",
       "        vertical-align: middle;\n",
       "    }\n",
       "\n",
       "    .dataframe tbody tr th {\n",
       "        vertical-align: top;\n",
       "    }\n",
       "\n",
       "    .dataframe thead th {\n",
       "        text-align: right;\n",
       "    }\n",
       "</style>\n",
       "<table border=\"1\" class=\"dataframe\">\n",
       "  <thead>\n",
       "    <tr style=\"text-align: right;\">\n",
       "      <th></th>\n",
       "      <th>SeniorCitizen</th>\n",
       "      <th>Partner</th>\n",
       "      <th>Dependents</th>\n",
       "      <th>tenure</th>\n",
       "      <th>PhoneService</th>\n",
       "      <th>PaperlessBilling</th>\n",
       "      <th>MonthlyCharges</th>\n",
       "      <th>TotalCharges</th>\n",
       "      <th>Churn</th>\n",
       "      <th>gender_Male</th>\n",
       "      <th>...</th>\n",
       "      <th>TechSupport_Yes</th>\n",
       "      <th>StreamingTV_No internet service</th>\n",
       "      <th>StreamingTV_Yes</th>\n",
       "      <th>StreamingMovies_No internet service</th>\n",
       "      <th>StreamingMovies_Yes</th>\n",
       "      <th>Contract_One year</th>\n",
       "      <th>Contract_Two year</th>\n",
       "      <th>PaymentMethod_Credit card (automatic)</th>\n",
       "      <th>PaymentMethod_Electronic check</th>\n",
       "      <th>PaymentMethod_Mailed check</th>\n",
       "    </tr>\n",
       "  </thead>\n",
       "  <tbody>\n",
       "    <tr>\n",
       "      <th>0</th>\n",
       "      <td>0</td>\n",
       "      <td>1</td>\n",
       "      <td>0</td>\n",
       "      <td>1</td>\n",
       "      <td>0</td>\n",
       "      <td>1</td>\n",
       "      <td>29.85</td>\n",
       "      <td>29.85</td>\n",
       "      <td>0</td>\n",
       "      <td>False</td>\n",
       "      <td>...</td>\n",
       "      <td>False</td>\n",
       "      <td>False</td>\n",
       "      <td>False</td>\n",
       "      <td>False</td>\n",
       "      <td>False</td>\n",
       "      <td>False</td>\n",
       "      <td>False</td>\n",
       "      <td>False</td>\n",
       "      <td>True</td>\n",
       "      <td>False</td>\n",
       "    </tr>\n",
       "    <tr>\n",
       "      <th>1</th>\n",
       "      <td>0</td>\n",
       "      <td>0</td>\n",
       "      <td>0</td>\n",
       "      <td>34</td>\n",
       "      <td>1</td>\n",
       "      <td>0</td>\n",
       "      <td>56.95</td>\n",
       "      <td>1889.50</td>\n",
       "      <td>0</td>\n",
       "      <td>True</td>\n",
       "      <td>...</td>\n",
       "      <td>False</td>\n",
       "      <td>False</td>\n",
       "      <td>False</td>\n",
       "      <td>False</td>\n",
       "      <td>False</td>\n",
       "      <td>True</td>\n",
       "      <td>False</td>\n",
       "      <td>False</td>\n",
       "      <td>False</td>\n",
       "      <td>True</td>\n",
       "    </tr>\n",
       "    <tr>\n",
       "      <th>2</th>\n",
       "      <td>0</td>\n",
       "      <td>0</td>\n",
       "      <td>0</td>\n",
       "      <td>2</td>\n",
       "      <td>1</td>\n",
       "      <td>1</td>\n",
       "      <td>53.85</td>\n",
       "      <td>108.15</td>\n",
       "      <td>1</td>\n",
       "      <td>True</td>\n",
       "      <td>...</td>\n",
       "      <td>False</td>\n",
       "      <td>False</td>\n",
       "      <td>False</td>\n",
       "      <td>False</td>\n",
       "      <td>False</td>\n",
       "      <td>False</td>\n",
       "      <td>False</td>\n",
       "      <td>False</td>\n",
       "      <td>False</td>\n",
       "      <td>True</td>\n",
       "    </tr>\n",
       "    <tr>\n",
       "      <th>3</th>\n",
       "      <td>0</td>\n",
       "      <td>0</td>\n",
       "      <td>0</td>\n",
       "      <td>45</td>\n",
       "      <td>0</td>\n",
       "      <td>0</td>\n",
       "      <td>42.30</td>\n",
       "      <td>1840.75</td>\n",
       "      <td>0</td>\n",
       "      <td>True</td>\n",
       "      <td>...</td>\n",
       "      <td>True</td>\n",
       "      <td>False</td>\n",
       "      <td>False</td>\n",
       "      <td>False</td>\n",
       "      <td>False</td>\n",
       "      <td>True</td>\n",
       "      <td>False</td>\n",
       "      <td>False</td>\n",
       "      <td>False</td>\n",
       "      <td>False</td>\n",
       "    </tr>\n",
       "    <tr>\n",
       "      <th>4</th>\n",
       "      <td>0</td>\n",
       "      <td>0</td>\n",
       "      <td>0</td>\n",
       "      <td>2</td>\n",
       "      <td>1</td>\n",
       "      <td>1</td>\n",
       "      <td>70.70</td>\n",
       "      <td>151.65</td>\n",
       "      <td>1</td>\n",
       "      <td>False</td>\n",
       "      <td>...</td>\n",
       "      <td>False</td>\n",
       "      <td>False</td>\n",
       "      <td>False</td>\n",
       "      <td>False</td>\n",
       "      <td>False</td>\n",
       "      <td>False</td>\n",
       "      <td>False</td>\n",
       "      <td>False</td>\n",
       "      <td>True</td>\n",
       "      <td>False</td>\n",
       "    </tr>\n",
       "    <tr>\n",
       "      <th>...</th>\n",
       "      <td>...</td>\n",
       "      <td>...</td>\n",
       "      <td>...</td>\n",
       "      <td>...</td>\n",
       "      <td>...</td>\n",
       "      <td>...</td>\n",
       "      <td>...</td>\n",
       "      <td>...</td>\n",
       "      <td>...</td>\n",
       "      <td>...</td>\n",
       "      <td>...</td>\n",
       "      <td>...</td>\n",
       "      <td>...</td>\n",
       "      <td>...</td>\n",
       "      <td>...</td>\n",
       "      <td>...</td>\n",
       "      <td>...</td>\n",
       "      <td>...</td>\n",
       "      <td>...</td>\n",
       "      <td>...</td>\n",
       "      <td>...</td>\n",
       "    </tr>\n",
       "    <tr>\n",
       "      <th>7038</th>\n",
       "      <td>0</td>\n",
       "      <td>1</td>\n",
       "      <td>1</td>\n",
       "      <td>24</td>\n",
       "      <td>1</td>\n",
       "      <td>1</td>\n",
       "      <td>84.80</td>\n",
       "      <td>1990.50</td>\n",
       "      <td>0</td>\n",
       "      <td>True</td>\n",
       "      <td>...</td>\n",
       "      <td>True</td>\n",
       "      <td>False</td>\n",
       "      <td>True</td>\n",
       "      <td>False</td>\n",
       "      <td>True</td>\n",
       "      <td>True</td>\n",
       "      <td>False</td>\n",
       "      <td>False</td>\n",
       "      <td>False</td>\n",
       "      <td>True</td>\n",
       "    </tr>\n",
       "    <tr>\n",
       "      <th>7039</th>\n",
       "      <td>0</td>\n",
       "      <td>1</td>\n",
       "      <td>1</td>\n",
       "      <td>72</td>\n",
       "      <td>1</td>\n",
       "      <td>1</td>\n",
       "      <td>103.20</td>\n",
       "      <td>7362.90</td>\n",
       "      <td>0</td>\n",
       "      <td>False</td>\n",
       "      <td>...</td>\n",
       "      <td>False</td>\n",
       "      <td>False</td>\n",
       "      <td>True</td>\n",
       "      <td>False</td>\n",
       "      <td>True</td>\n",
       "      <td>True</td>\n",
       "      <td>False</td>\n",
       "      <td>True</td>\n",
       "      <td>False</td>\n",
       "      <td>False</td>\n",
       "    </tr>\n",
       "    <tr>\n",
       "      <th>7040</th>\n",
       "      <td>0</td>\n",
       "      <td>1</td>\n",
       "      <td>1</td>\n",
       "      <td>11</td>\n",
       "      <td>0</td>\n",
       "      <td>1</td>\n",
       "      <td>29.60</td>\n",
       "      <td>346.45</td>\n",
       "      <td>0</td>\n",
       "      <td>False</td>\n",
       "      <td>...</td>\n",
       "      <td>False</td>\n",
       "      <td>False</td>\n",
       "      <td>False</td>\n",
       "      <td>False</td>\n",
       "      <td>False</td>\n",
       "      <td>False</td>\n",
       "      <td>False</td>\n",
       "      <td>False</td>\n",
       "      <td>True</td>\n",
       "      <td>False</td>\n",
       "    </tr>\n",
       "    <tr>\n",
       "      <th>7041</th>\n",
       "      <td>1</td>\n",
       "      <td>1</td>\n",
       "      <td>0</td>\n",
       "      <td>4</td>\n",
       "      <td>1</td>\n",
       "      <td>1</td>\n",
       "      <td>74.40</td>\n",
       "      <td>306.60</td>\n",
       "      <td>1</td>\n",
       "      <td>True</td>\n",
       "      <td>...</td>\n",
       "      <td>False</td>\n",
       "      <td>False</td>\n",
       "      <td>False</td>\n",
       "      <td>False</td>\n",
       "      <td>False</td>\n",
       "      <td>False</td>\n",
       "      <td>False</td>\n",
       "      <td>False</td>\n",
       "      <td>False</td>\n",
       "      <td>True</td>\n",
       "    </tr>\n",
       "    <tr>\n",
       "      <th>7042</th>\n",
       "      <td>0</td>\n",
       "      <td>0</td>\n",
       "      <td>0</td>\n",
       "      <td>66</td>\n",
       "      <td>1</td>\n",
       "      <td>1</td>\n",
       "      <td>105.65</td>\n",
       "      <td>6844.50</td>\n",
       "      <td>0</td>\n",
       "      <td>True</td>\n",
       "      <td>...</td>\n",
       "      <td>True</td>\n",
       "      <td>False</td>\n",
       "      <td>True</td>\n",
       "      <td>False</td>\n",
       "      <td>True</td>\n",
       "      <td>False</td>\n",
       "      <td>True</td>\n",
       "      <td>False</td>\n",
       "      <td>False</td>\n",
       "      <td>False</td>\n",
       "    </tr>\n",
       "  </tbody>\n",
       "</table>\n",
       "<p>7032 rows × 31 columns</p>\n",
       "</div>"
      ],
      "text/plain": [
       "      SeniorCitizen  Partner  Dependents  tenure  PhoneService  \\\n",
       "0                 0        1           0       1             0   \n",
       "1                 0        0           0      34             1   \n",
       "2                 0        0           0       2             1   \n",
       "3                 0        0           0      45             0   \n",
       "4                 0        0           0       2             1   \n",
       "...             ...      ...         ...     ...           ...   \n",
       "7038              0        1           1      24             1   \n",
       "7039              0        1           1      72             1   \n",
       "7040              0        1           1      11             0   \n",
       "7041              1        1           0       4             1   \n",
       "7042              0        0           0      66             1   \n",
       "\n",
       "      PaperlessBilling  MonthlyCharges  TotalCharges  Churn  gender_Male  ...  \\\n",
       "0                    1           29.85         29.85      0        False  ...   \n",
       "1                    0           56.95       1889.50      0         True  ...   \n",
       "2                    1           53.85        108.15      1         True  ...   \n",
       "3                    0           42.30       1840.75      0         True  ...   \n",
       "4                    1           70.70        151.65      1        False  ...   \n",
       "...                ...             ...           ...    ...          ...  ...   \n",
       "7038                 1           84.80       1990.50      0         True  ...   \n",
       "7039                 1          103.20       7362.90      0        False  ...   \n",
       "7040                 1           29.60        346.45      0        False  ...   \n",
       "7041                 1           74.40        306.60      1         True  ...   \n",
       "7042                 1          105.65       6844.50      0         True  ...   \n",
       "\n",
       "      TechSupport_Yes  StreamingTV_No internet service  StreamingTV_Yes  \\\n",
       "0               False                            False            False   \n",
       "1               False                            False            False   \n",
       "2               False                            False            False   \n",
       "3                True                            False            False   \n",
       "4               False                            False            False   \n",
       "...               ...                              ...              ...   \n",
       "7038             True                            False             True   \n",
       "7039            False                            False             True   \n",
       "7040            False                            False            False   \n",
       "7041            False                            False            False   \n",
       "7042             True                            False             True   \n",
       "\n",
       "      StreamingMovies_No internet service  StreamingMovies_Yes  \\\n",
       "0                                   False                False   \n",
       "1                                   False                False   \n",
       "2                                   False                False   \n",
       "3                                   False                False   \n",
       "4                                   False                False   \n",
       "...                                   ...                  ...   \n",
       "7038                                False                 True   \n",
       "7039                                False                 True   \n",
       "7040                                False                False   \n",
       "7041                                False                False   \n",
       "7042                                False                 True   \n",
       "\n",
       "      Contract_One year  Contract_Two year  \\\n",
       "0                 False              False   \n",
       "1                  True              False   \n",
       "2                 False              False   \n",
       "3                  True              False   \n",
       "4                 False              False   \n",
       "...                 ...                ...   \n",
       "7038               True              False   \n",
       "7039               True              False   \n",
       "7040              False              False   \n",
       "7041              False              False   \n",
       "7042              False               True   \n",
       "\n",
       "      PaymentMethod_Credit card (automatic)  PaymentMethod_Electronic check  \\\n",
       "0                                     False                            True   \n",
       "1                                     False                           False   \n",
       "2                                     False                           False   \n",
       "3                                     False                           False   \n",
       "4                                     False                            True   \n",
       "...                                     ...                             ...   \n",
       "7038                                  False                           False   \n",
       "7039                                   True                           False   \n",
       "7040                                  False                            True   \n",
       "7041                                  False                           False   \n",
       "7042                                  False                           False   \n",
       "\n",
       "      PaymentMethod_Mailed check  \n",
       "0                          False  \n",
       "1                           True  \n",
       "2                           True  \n",
       "3                          False  \n",
       "4                          False  \n",
       "...                          ...  \n",
       "7038                        True  \n",
       "7039                       False  \n",
       "7040                       False  \n",
       "7041                        True  \n",
       "7042                       False  \n",
       "\n",
       "[7032 rows x 31 columns]"
      ]
     },
     "execution_count": 4,
     "metadata": {},
     "output_type": "execute_result"
    }
   ],
   "source": [
    "df"
   ]
  },
  {
   "cell_type": "markdown",
   "id": "bb2ac803",
   "metadata": {},
   "source": [
    "🧪 3. Feature Engineering & Splitting"
   ]
  },
  {
   "cell_type": "code",
   "execution_count": 5,
   "id": "8c7a330d",
   "metadata": {},
   "outputs": [],
   "source": [
    "# Features and Target\n",
    "X = df.drop('Churn', axis=1)\n",
    "y = df['Churn']\n",
    "\n",
    "# Scale numerical features\n",
    "scaler = StandardScaler()\n",
    "X_scaled = scaler.fit_transform(X)\n",
    "\n",
    "# SMOTE to handle class imbalance\n",
    "smote = SMOTE(random_state=42)\n",
    "X_resampled, y_resampled = smote.fit_resample(X_scaled, y)\n",
    "\n",
    "# Train-Test Split\n",
    "X_train, X_test, y_train, y_test = train_test_split(X_resampled, y_resampled, test_size=0.2, random_state=42)"
   ]
  },
  {
   "cell_type": "code",
   "execution_count": 6,
   "id": "5410b636",
   "metadata": {},
   "outputs": [
    {
     "data": {
      "text/html": [
       "<div>\n",
       "<style scoped>\n",
       "    .dataframe tbody tr th:only-of-type {\n",
       "        vertical-align: middle;\n",
       "    }\n",
       "\n",
       "    .dataframe tbody tr th {\n",
       "        vertical-align: top;\n",
       "    }\n",
       "\n",
       "    .dataframe thead th {\n",
       "        text-align: right;\n",
       "    }\n",
       "</style>\n",
       "<table border=\"1\" class=\"dataframe\">\n",
       "  <thead>\n",
       "    <tr style=\"text-align: right;\">\n",
       "      <th></th>\n",
       "      <th>SeniorCitizen</th>\n",
       "      <th>Partner</th>\n",
       "      <th>Dependents</th>\n",
       "      <th>tenure</th>\n",
       "      <th>PhoneService</th>\n",
       "      <th>PaperlessBilling</th>\n",
       "      <th>MonthlyCharges</th>\n",
       "      <th>TotalCharges</th>\n",
       "      <th>Churn</th>\n",
       "      <th>gender_Male</th>\n",
       "      <th>...</th>\n",
       "      <th>TechSupport_Yes</th>\n",
       "      <th>StreamingTV_No internet service</th>\n",
       "      <th>StreamingTV_Yes</th>\n",
       "      <th>StreamingMovies_No internet service</th>\n",
       "      <th>StreamingMovies_Yes</th>\n",
       "      <th>Contract_One year</th>\n",
       "      <th>Contract_Two year</th>\n",
       "      <th>PaymentMethod_Credit card (automatic)</th>\n",
       "      <th>PaymentMethod_Electronic check</th>\n",
       "      <th>PaymentMethod_Mailed check</th>\n",
       "    </tr>\n",
       "  </thead>\n",
       "  <tbody>\n",
       "    <tr>\n",
       "      <th>0</th>\n",
       "      <td>0</td>\n",
       "      <td>1</td>\n",
       "      <td>0</td>\n",
       "      <td>1</td>\n",
       "      <td>0</td>\n",
       "      <td>1</td>\n",
       "      <td>29.85</td>\n",
       "      <td>29.85</td>\n",
       "      <td>0</td>\n",
       "      <td>False</td>\n",
       "      <td>...</td>\n",
       "      <td>False</td>\n",
       "      <td>False</td>\n",
       "      <td>False</td>\n",
       "      <td>False</td>\n",
       "      <td>False</td>\n",
       "      <td>False</td>\n",
       "      <td>False</td>\n",
       "      <td>False</td>\n",
       "      <td>True</td>\n",
       "      <td>False</td>\n",
       "    </tr>\n",
       "    <tr>\n",
       "      <th>1</th>\n",
       "      <td>0</td>\n",
       "      <td>0</td>\n",
       "      <td>0</td>\n",
       "      <td>34</td>\n",
       "      <td>1</td>\n",
       "      <td>0</td>\n",
       "      <td>56.95</td>\n",
       "      <td>1889.50</td>\n",
       "      <td>0</td>\n",
       "      <td>True</td>\n",
       "      <td>...</td>\n",
       "      <td>False</td>\n",
       "      <td>False</td>\n",
       "      <td>False</td>\n",
       "      <td>False</td>\n",
       "      <td>False</td>\n",
       "      <td>True</td>\n",
       "      <td>False</td>\n",
       "      <td>False</td>\n",
       "      <td>False</td>\n",
       "      <td>True</td>\n",
       "    </tr>\n",
       "    <tr>\n",
       "      <th>2</th>\n",
       "      <td>0</td>\n",
       "      <td>0</td>\n",
       "      <td>0</td>\n",
       "      <td>2</td>\n",
       "      <td>1</td>\n",
       "      <td>1</td>\n",
       "      <td>53.85</td>\n",
       "      <td>108.15</td>\n",
       "      <td>1</td>\n",
       "      <td>True</td>\n",
       "      <td>...</td>\n",
       "      <td>False</td>\n",
       "      <td>False</td>\n",
       "      <td>False</td>\n",
       "      <td>False</td>\n",
       "      <td>False</td>\n",
       "      <td>False</td>\n",
       "      <td>False</td>\n",
       "      <td>False</td>\n",
       "      <td>False</td>\n",
       "      <td>True</td>\n",
       "    </tr>\n",
       "    <tr>\n",
       "      <th>3</th>\n",
       "      <td>0</td>\n",
       "      <td>0</td>\n",
       "      <td>0</td>\n",
       "      <td>45</td>\n",
       "      <td>0</td>\n",
       "      <td>0</td>\n",
       "      <td>42.30</td>\n",
       "      <td>1840.75</td>\n",
       "      <td>0</td>\n",
       "      <td>True</td>\n",
       "      <td>...</td>\n",
       "      <td>True</td>\n",
       "      <td>False</td>\n",
       "      <td>False</td>\n",
       "      <td>False</td>\n",
       "      <td>False</td>\n",
       "      <td>True</td>\n",
       "      <td>False</td>\n",
       "      <td>False</td>\n",
       "      <td>False</td>\n",
       "      <td>False</td>\n",
       "    </tr>\n",
       "    <tr>\n",
       "      <th>4</th>\n",
       "      <td>0</td>\n",
       "      <td>0</td>\n",
       "      <td>0</td>\n",
       "      <td>2</td>\n",
       "      <td>1</td>\n",
       "      <td>1</td>\n",
       "      <td>70.70</td>\n",
       "      <td>151.65</td>\n",
       "      <td>1</td>\n",
       "      <td>False</td>\n",
       "      <td>...</td>\n",
       "      <td>False</td>\n",
       "      <td>False</td>\n",
       "      <td>False</td>\n",
       "      <td>False</td>\n",
       "      <td>False</td>\n",
       "      <td>False</td>\n",
       "      <td>False</td>\n",
       "      <td>False</td>\n",
       "      <td>True</td>\n",
       "      <td>False</td>\n",
       "    </tr>\n",
       "    <tr>\n",
       "      <th>...</th>\n",
       "      <td>...</td>\n",
       "      <td>...</td>\n",
       "      <td>...</td>\n",
       "      <td>...</td>\n",
       "      <td>...</td>\n",
       "      <td>...</td>\n",
       "      <td>...</td>\n",
       "      <td>...</td>\n",
       "      <td>...</td>\n",
       "      <td>...</td>\n",
       "      <td>...</td>\n",
       "      <td>...</td>\n",
       "      <td>...</td>\n",
       "      <td>...</td>\n",
       "      <td>...</td>\n",
       "      <td>...</td>\n",
       "      <td>...</td>\n",
       "      <td>...</td>\n",
       "      <td>...</td>\n",
       "      <td>...</td>\n",
       "      <td>...</td>\n",
       "    </tr>\n",
       "    <tr>\n",
       "      <th>7038</th>\n",
       "      <td>0</td>\n",
       "      <td>1</td>\n",
       "      <td>1</td>\n",
       "      <td>24</td>\n",
       "      <td>1</td>\n",
       "      <td>1</td>\n",
       "      <td>84.80</td>\n",
       "      <td>1990.50</td>\n",
       "      <td>0</td>\n",
       "      <td>True</td>\n",
       "      <td>...</td>\n",
       "      <td>True</td>\n",
       "      <td>False</td>\n",
       "      <td>True</td>\n",
       "      <td>False</td>\n",
       "      <td>True</td>\n",
       "      <td>True</td>\n",
       "      <td>False</td>\n",
       "      <td>False</td>\n",
       "      <td>False</td>\n",
       "      <td>True</td>\n",
       "    </tr>\n",
       "    <tr>\n",
       "      <th>7039</th>\n",
       "      <td>0</td>\n",
       "      <td>1</td>\n",
       "      <td>1</td>\n",
       "      <td>72</td>\n",
       "      <td>1</td>\n",
       "      <td>1</td>\n",
       "      <td>103.20</td>\n",
       "      <td>7362.90</td>\n",
       "      <td>0</td>\n",
       "      <td>False</td>\n",
       "      <td>...</td>\n",
       "      <td>False</td>\n",
       "      <td>False</td>\n",
       "      <td>True</td>\n",
       "      <td>False</td>\n",
       "      <td>True</td>\n",
       "      <td>True</td>\n",
       "      <td>False</td>\n",
       "      <td>True</td>\n",
       "      <td>False</td>\n",
       "      <td>False</td>\n",
       "    </tr>\n",
       "    <tr>\n",
       "      <th>7040</th>\n",
       "      <td>0</td>\n",
       "      <td>1</td>\n",
       "      <td>1</td>\n",
       "      <td>11</td>\n",
       "      <td>0</td>\n",
       "      <td>1</td>\n",
       "      <td>29.60</td>\n",
       "      <td>346.45</td>\n",
       "      <td>0</td>\n",
       "      <td>False</td>\n",
       "      <td>...</td>\n",
       "      <td>False</td>\n",
       "      <td>False</td>\n",
       "      <td>False</td>\n",
       "      <td>False</td>\n",
       "      <td>False</td>\n",
       "      <td>False</td>\n",
       "      <td>False</td>\n",
       "      <td>False</td>\n",
       "      <td>True</td>\n",
       "      <td>False</td>\n",
       "    </tr>\n",
       "    <tr>\n",
       "      <th>7041</th>\n",
       "      <td>1</td>\n",
       "      <td>1</td>\n",
       "      <td>0</td>\n",
       "      <td>4</td>\n",
       "      <td>1</td>\n",
       "      <td>1</td>\n",
       "      <td>74.40</td>\n",
       "      <td>306.60</td>\n",
       "      <td>1</td>\n",
       "      <td>True</td>\n",
       "      <td>...</td>\n",
       "      <td>False</td>\n",
       "      <td>False</td>\n",
       "      <td>False</td>\n",
       "      <td>False</td>\n",
       "      <td>False</td>\n",
       "      <td>False</td>\n",
       "      <td>False</td>\n",
       "      <td>False</td>\n",
       "      <td>False</td>\n",
       "      <td>True</td>\n",
       "    </tr>\n",
       "    <tr>\n",
       "      <th>7042</th>\n",
       "      <td>0</td>\n",
       "      <td>0</td>\n",
       "      <td>0</td>\n",
       "      <td>66</td>\n",
       "      <td>1</td>\n",
       "      <td>1</td>\n",
       "      <td>105.65</td>\n",
       "      <td>6844.50</td>\n",
       "      <td>0</td>\n",
       "      <td>True</td>\n",
       "      <td>...</td>\n",
       "      <td>True</td>\n",
       "      <td>False</td>\n",
       "      <td>True</td>\n",
       "      <td>False</td>\n",
       "      <td>True</td>\n",
       "      <td>False</td>\n",
       "      <td>True</td>\n",
       "      <td>False</td>\n",
       "      <td>False</td>\n",
       "      <td>False</td>\n",
       "    </tr>\n",
       "  </tbody>\n",
       "</table>\n",
       "<p>7032 rows × 31 columns</p>\n",
       "</div>"
      ],
      "text/plain": [
       "      SeniorCitizen  Partner  Dependents  tenure  PhoneService  \\\n",
       "0                 0        1           0       1             0   \n",
       "1                 0        0           0      34             1   \n",
       "2                 0        0           0       2             1   \n",
       "3                 0        0           0      45             0   \n",
       "4                 0        0           0       2             1   \n",
       "...             ...      ...         ...     ...           ...   \n",
       "7038              0        1           1      24             1   \n",
       "7039              0        1           1      72             1   \n",
       "7040              0        1           1      11             0   \n",
       "7041              1        1           0       4             1   \n",
       "7042              0        0           0      66             1   \n",
       "\n",
       "      PaperlessBilling  MonthlyCharges  TotalCharges  Churn  gender_Male  ...  \\\n",
       "0                    1           29.85         29.85      0        False  ...   \n",
       "1                    0           56.95       1889.50      0         True  ...   \n",
       "2                    1           53.85        108.15      1         True  ...   \n",
       "3                    0           42.30       1840.75      0         True  ...   \n",
       "4                    1           70.70        151.65      1        False  ...   \n",
       "...                ...             ...           ...    ...          ...  ...   \n",
       "7038                 1           84.80       1990.50      0         True  ...   \n",
       "7039                 1          103.20       7362.90      0        False  ...   \n",
       "7040                 1           29.60        346.45      0        False  ...   \n",
       "7041                 1           74.40        306.60      1         True  ...   \n",
       "7042                 1          105.65       6844.50      0         True  ...   \n",
       "\n",
       "      TechSupport_Yes  StreamingTV_No internet service  StreamingTV_Yes  \\\n",
       "0               False                            False            False   \n",
       "1               False                            False            False   \n",
       "2               False                            False            False   \n",
       "3                True                            False            False   \n",
       "4               False                            False            False   \n",
       "...               ...                              ...              ...   \n",
       "7038             True                            False             True   \n",
       "7039            False                            False             True   \n",
       "7040            False                            False            False   \n",
       "7041            False                            False            False   \n",
       "7042             True                            False             True   \n",
       "\n",
       "      StreamingMovies_No internet service  StreamingMovies_Yes  \\\n",
       "0                                   False                False   \n",
       "1                                   False                False   \n",
       "2                                   False                False   \n",
       "3                                   False                False   \n",
       "4                                   False                False   \n",
       "...                                   ...                  ...   \n",
       "7038                                False                 True   \n",
       "7039                                False                 True   \n",
       "7040                                False                False   \n",
       "7041                                False                False   \n",
       "7042                                False                 True   \n",
       "\n",
       "      Contract_One year  Contract_Two year  \\\n",
       "0                 False              False   \n",
       "1                  True              False   \n",
       "2                 False              False   \n",
       "3                  True              False   \n",
       "4                 False              False   \n",
       "...                 ...                ...   \n",
       "7038               True              False   \n",
       "7039               True              False   \n",
       "7040              False              False   \n",
       "7041              False              False   \n",
       "7042              False               True   \n",
       "\n",
       "      PaymentMethod_Credit card (automatic)  PaymentMethod_Electronic check  \\\n",
       "0                                     False                            True   \n",
       "1                                     False                           False   \n",
       "2                                     False                           False   \n",
       "3                                     False                           False   \n",
       "4                                     False                            True   \n",
       "...                                     ...                             ...   \n",
       "7038                                  False                           False   \n",
       "7039                                   True                           False   \n",
       "7040                                  False                            True   \n",
       "7041                                  False                           False   \n",
       "7042                                  False                           False   \n",
       "\n",
       "      PaymentMethod_Mailed check  \n",
       "0                          False  \n",
       "1                           True  \n",
       "2                           True  \n",
       "3                          False  \n",
       "4                          False  \n",
       "...                          ...  \n",
       "7038                        True  \n",
       "7039                       False  \n",
       "7040                       False  \n",
       "7041                        True  \n",
       "7042                       False  \n",
       "\n",
       "[7032 rows x 31 columns]"
      ]
     },
     "execution_count": 6,
     "metadata": {},
     "output_type": "execute_result"
    }
   ],
   "source": [
    "df"
   ]
  },
  {
   "cell_type": "code",
   "execution_count": 7,
   "id": "893c5b20",
   "metadata": {},
   "outputs": [],
   "source": [
    "import pandas as pd\n",
    "\n",
    "# Assuming X_scaled is your scaled feature array\n",
    "# Reconstruct DataFrame from scaled X\n",
    "X_scaled_df = pd.DataFrame(X_scaled, columns=X.columns)\n",
    "X_scaled_df['Churn'] = y.values  # Add target column\n",
    "\n",
    "# Save to CSV\n",
    "X_scaled_df.to_csv(\"telco_scaled_data.csv\", index=False)\n"
   ]
  },
  {
   "cell_type": "markdown",
   "id": "874f9f33",
   "metadata": {},
   "source": [
    "⚙️ 4. Modeling: Logistic Regression + Random Forest + XGBoost"
   ]
  },
  {
   "cell_type": "code",
   "execution_count": 8,
   "id": "0c0531a5",
   "metadata": {},
   "outputs": [
    {
     "data": {
      "text/html": [
       "<style>#sk-container-id-1 {color: black;}#sk-container-id-1 pre{padding: 0;}#sk-container-id-1 div.sk-toggleable {background-color: white;}#sk-container-id-1 label.sk-toggleable__label {cursor: pointer;display: block;width: 100%;margin-bottom: 0;padding: 0.3em;box-sizing: border-box;text-align: center;}#sk-container-id-1 label.sk-toggleable__label-arrow:before {content: \"▸\";float: left;margin-right: 0.25em;color: #696969;}#sk-container-id-1 label.sk-toggleable__label-arrow:hover:before {color: black;}#sk-container-id-1 div.sk-estimator:hover label.sk-toggleable__label-arrow:before {color: black;}#sk-container-id-1 div.sk-toggleable__content {max-height: 0;max-width: 0;overflow: hidden;text-align: left;background-color: #f0f8ff;}#sk-container-id-1 div.sk-toggleable__content pre {margin: 0.2em;color: black;border-radius: 0.25em;background-color: #f0f8ff;}#sk-container-id-1 input.sk-toggleable__control:checked~div.sk-toggleable__content {max-height: 200px;max-width: 100%;overflow: auto;}#sk-container-id-1 input.sk-toggleable__control:checked~label.sk-toggleable__label-arrow:before {content: \"▾\";}#sk-container-id-1 div.sk-estimator input.sk-toggleable__control:checked~label.sk-toggleable__label {background-color: #d4ebff;}#sk-container-id-1 div.sk-label input.sk-toggleable__control:checked~label.sk-toggleable__label {background-color: #d4ebff;}#sk-container-id-1 input.sk-hidden--visually {border: 0;clip: rect(1px 1px 1px 1px);clip: rect(1px, 1px, 1px, 1px);height: 1px;margin: -1px;overflow: hidden;padding: 0;position: absolute;width: 1px;}#sk-container-id-1 div.sk-estimator {font-family: monospace;background-color: #f0f8ff;border: 1px dotted black;border-radius: 0.25em;box-sizing: border-box;margin-bottom: 0.5em;}#sk-container-id-1 div.sk-estimator:hover {background-color: #d4ebff;}#sk-container-id-1 div.sk-parallel-item::after {content: \"\";width: 100%;border-bottom: 1px solid gray;flex-grow: 1;}#sk-container-id-1 div.sk-label:hover label.sk-toggleable__label {background-color: #d4ebff;}#sk-container-id-1 div.sk-serial::before {content: \"\";position: absolute;border-left: 1px solid gray;box-sizing: border-box;top: 0;bottom: 0;left: 50%;z-index: 0;}#sk-container-id-1 div.sk-serial {display: flex;flex-direction: column;align-items: center;background-color: white;padding-right: 0.2em;padding-left: 0.2em;position: relative;}#sk-container-id-1 div.sk-item {position: relative;z-index: 1;}#sk-container-id-1 div.sk-parallel {display: flex;align-items: stretch;justify-content: center;background-color: white;position: relative;}#sk-container-id-1 div.sk-item::before, #sk-container-id-1 div.sk-parallel-item::before {content: \"\";position: absolute;border-left: 1px solid gray;box-sizing: border-box;top: 0;bottom: 0;left: 50%;z-index: -1;}#sk-container-id-1 div.sk-parallel-item {display: flex;flex-direction: column;z-index: 1;position: relative;background-color: white;}#sk-container-id-1 div.sk-parallel-item:first-child::after {align-self: flex-end;width: 50%;}#sk-container-id-1 div.sk-parallel-item:last-child::after {align-self: flex-start;width: 50%;}#sk-container-id-1 div.sk-parallel-item:only-child::after {width: 0;}#sk-container-id-1 div.sk-dashed-wrapped {border: 1px dashed gray;margin: 0 0.4em 0.5em 0.4em;box-sizing: border-box;padding-bottom: 0.4em;background-color: white;}#sk-container-id-1 div.sk-label label {font-family: monospace;font-weight: bold;display: inline-block;line-height: 1.2em;}#sk-container-id-1 div.sk-label-container {text-align: center;}#sk-container-id-1 div.sk-container {/* jupyter's `normalize.less` sets `[hidden] { display: none; }` but bootstrap.min.css set `[hidden] { display: none !important; }` so we also need the `!important` here to be able to override the default hidden behavior on the sphinx rendered scikit-learn.org. See: https://github.com/scikit-learn/scikit-learn/issues/21755 */display: inline-block !important;position: relative;}#sk-container-id-1 div.sk-text-repr-fallback {display: none;}</style><div id=\"sk-container-id-1\" class=\"sk-top-container\"><div class=\"sk-text-repr-fallback\"><pre>XGBClassifier(base_score=None, booster=None, callbacks=None,\n",
       "              colsample_bylevel=None, colsample_bynode=None,\n",
       "              colsample_bytree=None, device=None, early_stopping_rounds=None,\n",
       "              enable_categorical=False, eval_metric=&#x27;logloss&#x27;,\n",
       "              feature_types=None, feature_weights=None, gamma=None,\n",
       "              grow_policy=None, importance_type=None,\n",
       "              interaction_constraints=None, learning_rate=None, max_bin=None,\n",
       "              max_cat_threshold=None, max_cat_to_onehot=None,\n",
       "              max_delta_step=None, max_depth=None, max_leaves=None,\n",
       "              min_child_weight=None, missing=nan, monotone_constraints=None,\n",
       "              multi_strategy=None, n_estimators=None, n_jobs=None,\n",
       "              num_parallel_tree=None, ...)</pre><b>In a Jupyter environment, please rerun this cell to show the HTML representation or trust the notebook. <br />On GitHub, the HTML representation is unable to render, please try loading this page with nbviewer.org.</b></div><div class=\"sk-container\" hidden><div class=\"sk-item\"><div class=\"sk-estimator sk-toggleable\"><input class=\"sk-toggleable__control sk-hidden--visually\" id=\"sk-estimator-id-1\" type=\"checkbox\" checked><label for=\"sk-estimator-id-1\" class=\"sk-toggleable__label sk-toggleable__label-arrow\">XGBClassifier</label><div class=\"sk-toggleable__content\"><pre>XGBClassifier(base_score=None, booster=None, callbacks=None,\n",
       "              colsample_bylevel=None, colsample_bynode=None,\n",
       "              colsample_bytree=None, device=None, early_stopping_rounds=None,\n",
       "              enable_categorical=False, eval_metric=&#x27;logloss&#x27;,\n",
       "              feature_types=None, feature_weights=None, gamma=None,\n",
       "              grow_policy=None, importance_type=None,\n",
       "              interaction_constraints=None, learning_rate=None, max_bin=None,\n",
       "              max_cat_threshold=None, max_cat_to_onehot=None,\n",
       "              max_delta_step=None, max_depth=None, max_leaves=None,\n",
       "              min_child_weight=None, missing=nan, monotone_constraints=None,\n",
       "              multi_strategy=None, n_estimators=None, n_jobs=None,\n",
       "              num_parallel_tree=None, ...)</pre></div></div></div></div></div>"
      ],
      "text/plain": [
       "XGBClassifier(base_score=None, booster=None, callbacks=None,\n",
       "              colsample_bylevel=None, colsample_bynode=None,\n",
       "              colsample_bytree=None, device=None, early_stopping_rounds=None,\n",
       "              enable_categorical=False, eval_metric='logloss',\n",
       "              feature_types=None, feature_weights=None, gamma=None,\n",
       "              grow_policy=None, importance_type=None,\n",
       "              interaction_constraints=None, learning_rate=None, max_bin=None,\n",
       "              max_cat_threshold=None, max_cat_to_onehot=None,\n",
       "              max_delta_step=None, max_depth=None, max_leaves=None,\n",
       "              min_child_weight=None, missing=nan, monotone_constraints=None,\n",
       "              multi_strategy=None, n_estimators=None, n_jobs=None,\n",
       "              num_parallel_tree=None, ...)"
      ]
     },
     "execution_count": 8,
     "metadata": {},
     "output_type": "execute_result"
    }
   ],
   "source": [
    "# Logistic Regression\n",
    "logreg = LogisticRegression()\n",
    "logreg.fit(X_train, y_train)\n",
    "\n",
    "# Random Forest\n",
    "rf = RandomForestClassifier(n_estimators=200, random_state=42)\n",
    "rf.fit(X_train, y_train)\n",
    "\n",
    "# XGBoost\n",
    "xgb = XGBClassifier(use_label_encoder=False, eval_metric='logloss', random_state=42)\n",
    "xgb.fit(X_train, y_train)"
   ]
  },
  {
   "cell_type": "markdown",
   "id": "93866f3d",
   "metadata": {},
   "source": [
    "📈 5. Evaluate All Models"
   ]
  },
  {
   "cell_type": "code",
   "execution_count": 9,
   "id": "64f287aa",
   "metadata": {},
   "outputs": [
    {
     "name": "stdout",
     "output_type": "stream",
     "text": [
      "Model: LogisticRegression\n",
      "              precision    recall  f1-score   support\n",
      "\n",
      "           0       0.82      0.75      0.78      1037\n",
      "           1       0.77      0.83      0.80      1029\n",
      "\n",
      "    accuracy                           0.79      2066\n",
      "   macro avg       0.79      0.79      0.79      2066\n",
      "weighted avg       0.79      0.79      0.79      2066\n",
      "\n",
      "Precision: 0.7670863309352518\n",
      "Recall: 0.8289601554907677\n",
      "F1 Score: 0.796823914058851\n",
      "ROC AUC: 0.8589998060113976\n",
      "--------------------------------------------------\n",
      "Model: RandomForestClassifier\n",
      "              precision    recall  f1-score   support\n",
      "\n",
      "           0       0.86      0.84      0.85      1037\n",
      "           1       0.84      0.86      0.85      1029\n",
      "\n",
      "    accuracy                           0.85      2066\n",
      "   macro avg       0.85      0.85      0.85      2066\n",
      "weighted avg       0.85      0.85      0.85      2066\n",
      "\n",
      "Precision: 0.8439581351094196\n",
      "Recall: 0.8620019436345967\n",
      "F1 Score: 0.8528846153846154\n",
      "ROC AUC: 0.9192510727944576\n",
      "--------------------------------------------------\n",
      "Model: XGBClassifier\n",
      "              precision    recall  f1-score   support\n",
      "\n",
      "           0       0.85      0.85      0.85      1037\n",
      "           1       0.85      0.84      0.85      1029\n",
      "\n",
      "    accuracy                           0.85      2066\n",
      "   macro avg       0.85      0.85      0.85      2066\n",
      "weighted avg       0.85      0.85      0.85      2066\n",
      "\n",
      "Precision: 0.8516699410609038\n",
      "Recall: 0.8425655976676385\n",
      "F1 Score: 0.8470933072789449\n",
      "ROC AUC: 0.927794068447051\n",
      "--------------------------------------------------\n"
     ]
    }
   ],
   "source": [
    "def evaluate_model(model, X_test, y_test):\n",
    "    y_pred = model.predict(X_test)\n",
    "    print(f\"Model: {model.__class__.__name__}\")\n",
    "    print(classification_report(y_test, y_pred))\n",
    "    print(\"Precision:\", precision_score(y_test, y_pred))\n",
    "    print(\"Recall:\", recall_score(y_test, y_pred))\n",
    "    print(\"F1 Score:\", f1_score(y_test, y_pred))\n",
    "    print(\"ROC AUC:\", roc_auc_score(y_test, model.predict_proba(X_test)[:,1]))\n",
    "    print(\"-\"*50)\n",
    "\n",
    "models = [logreg, rf, xgb]\n",
    "for m in models:\n",
    "    evaluate_model(m, X_test, y_test)\n"
   ]
  },
  {
   "cell_type": "markdown",
   "id": "60a2cd0b",
   "metadata": {},
   "source": [
    "🎯 6. Bayesian Hyperparameter Optimization (XGBoost)"
   ]
  },
  {
   "cell_type": "code",
   "execution_count": 10,
   "id": "e6700748",
   "metadata": {},
   "outputs": [
    {
     "name": "stdout",
     "output_type": "stream",
     "text": [
      "Best Params: OrderedDict([('learning_rate', 0.15061876004031435), ('max_depth', 3), ('n_estimators', 300), ('subsample', 0.9213486630378338)])\n"
     ]
    }
   ],
   "source": [
    "search_spaces = {\n",
    "    'learning_rate': Real(0.01, 0.3),\n",
    "    'n_estimators': Integer(100, 300),\n",
    "    'max_depth': Integer(3, 10),\n",
    "    'subsample': Real(0.5, 1.0)\n",
    "}\n",
    "\n",
    "opt = BayesSearchCV(\n",
    "    XGBClassifier(use_label_encoder=False, eval_metric='logloss'),\n",
    "    search_spaces,\n",
    "    n_iter=30,\n",
    "    scoring='f1',\n",
    "    cv=3,\n",
    "    random_state=42,\n",
    "    n_jobs=-1\n",
    ")\n",
    "\n",
    "opt.fit(X_train, y_train)\n",
    "print(\"Best Params:\", opt.best_params_)\n"
   ]
  },
  {
   "cell_type": "markdown",
   "id": "3ed6bf96",
   "metadata": {},
   "source": [
    "👥 7. Customer Segmentation (KMeans)"
   ]
  },
  {
   "cell_type": "code",
   "execution_count": 11,
   "id": "4a9b8b6f",
   "metadata": {},
   "outputs": [
    {
     "data": {
      "application/vnd.plotly.v1+json": {
       "config": {
        "plotlyServerURL": "https://plot.ly"
       },
       "data": [
        {
         "hovertemplate": "MonthlyCharges=%{x}<br>tenure=%{y}<br>TotalCharges=%{z}<br>Segment=%{marker.color}<extra></extra>",
         "legendgroup": "",
         "marker": {
          "color": {
           "bdata": "AgAAAAIAAAACAAAAAgAAAAIAAAACAAAAAgAAAAIAAAAAAAAAAgAAAAIAAAABAAAAAAAAAAAAAAAAAAAAAAAAAAEAAAAAAAAAAgAAAAIAAAACAAAAAQAAAAEAAAAAAAAAAAAAAAIAAAAAAAAAAgAAAAAAAAACAAAAAAAAAAIAAAAAAAAAAQAAAAIAAAAAAAAAAgAAAAIAAAAAAAAAAgAAAAIAAAAAAAAAAQAAAAAAAAACAAAAAgAAAAIAAAACAAAAAAAAAAAAAAACAAAAAgAAAAAAAAACAAAAAAAAAAIAAAAAAAAAAAAAAAEAAAAAAAAAAAAAAAAAAAAAAAAAAgAAAAIAAAACAAAAAgAAAAAAAAABAAAAAgAAAAIAAAABAAAAAAAAAAEAAAACAAAAAAAAAAIAAAACAAAAAgAAAAEAAAACAAAAAgAAAAIAAAAAAAAAAQAAAAIAAAACAAAAAQAAAAEAAAACAAAAAgAAAAIAAAAAAAAAAAAAAAAAAAACAAAAAAAAAAEAAAABAAAAAAAAAAEAAAABAAAAAAAAAAAAAAAAAAAAAgAAAAAAAAACAAAAAAAAAAEAAAAAAAAAAAAAAAIAAAACAAAAAAAAAAIAAAACAAAAAgAAAAEAAAAAAAAAAAAAAAEAAAACAAAAAgAAAAEAAAACAAAAAgAAAAEAAAABAAAAAAAAAAIAAAAAAAAAAgAAAAIAAAACAAAAAQAAAAIAAAABAAAAAQAAAAIAAAAAAAAAAgAAAAAAAAAAAAAAAQAAAAAAAAABAAAAAgAAAAAAAAACAAAAAgAAAAIAAAAAAAAAAAAAAAEAAAACAAAAAgAAAAEAAAACAAAAAQAAAAIAAAACAAAAAgAAAAAAAAABAAAAAQAAAAIAAAAAAAAAAgAAAAEAAAAAAAAAAgAAAAAAAAAAAAAAAQAAAAEAAAACAAAAAgAAAAAAAAABAAAAAgAAAAIAAAACAAAAAAAAAAIAAAACAAAAAgAAAAIAAAABAAAAAgAAAAAAAAACAAAAAQAAAAAAAAABAAAAAgAAAAEAAAAAAAAAAAAAAAEAAAAAAAAAAgAAAAAAAAACAAAAAgAAAAIAAAAAAAAAAgAAAAIAAAAAAAAAAgAAAAIAAAABAAAAAQAAAAIAAAAAAAAAAAAAAAAAAAAAAAAAAgAAAAIAAAABAAAAAQAAAAIAAAABAAAAAgAAAAAAAAACAAAAAgAAAAAAAAAAAAAAAAAAAAIAAAABAAAAAQAAAAIAAAACAAAAAgAAAAIAAAABAAAAAAAAAAAAAAAAAAAAAAAAAAIAAAACAAAAAgAAAAIAAAACAAAAAAAAAAAAAAACAAAAAgAAAAAAAAABAAAAAAAAAAAAAAAAAAAAAgAAAAIAAAACAAAAAgAAAAAAAAACAAAAAAAAAAAAAAABAAAAAgAAAAEAAAABAAAAAgAAAAAAAAACAAAAAAAAAAIAAAACAAAAAAAAAAIAAAACAAAAAgAAAAIAAAACAAAAAQAAAAIAAAACAAAAAgAAAAIAAAACAAAAAgAAAAIAAAACAAAAAgAAAAAAAAACAAAAAQAAAAEAAAAAAAAAAAAAAAAAAAACAAAAAgAAAAIAAAACAAAAAAAAAAIAAAABAAAAAgAAAAAAAAAAAAAAAAAAAAEAAAACAAAAAAAAAAIAAAACAAAAAAAAAAEAAAAAAAAAAgAAAAAAAAAAAAAAAAAAAAIAAAACAAAAAAAAAAAAAAACAAAAAgAAAAIAAAACAAAAAQAAAAEAAAAAAAAAAgAAAAIAAAAAAAAAAAAAAAAAAAAAAAAAAAAAAAIAAAAAAAAAAAAAAAEAAAABAAAAAgAAAAIAAAABAAAAAgAAAAAAAAAAAAAAAgAAAAIAAAACAAAAAgAAAAIAAAACAAAAAAAAAAIAAAAAAAAAAQAAAAAAAAACAAAAAQAAAAIAAAACAAAAAgAAAAEAAAAAAAAAAAAAAAEAAAACAAAAAgAAAAAAAAAAAAAAAAAAAAIAAAAAAAAAAAAAAAIAAAAAAAAAAgAAAAAAAAACAAAAAAAAAAEAAAAAAAAAAgAAAAIAAAACAAAAAgAAAAAAAAACAAAAAQAAAAIAAAAAAAAAAAAAAAIAAAACAAAAAQAAAAEAAAABAAAAAAAAAAAAAAABAAAAAQAAAAAAAAACAAAAAQAAAAEAAAACAAAAAQAAAAIAAAAAAAAAAgAAAAIAAAAAAAAAAQAAAAIAAAACAAAAAQAAAAIAAAAAAAAAAQAAAAIAAAACAAAAAAAAAAIAAAACAAAAAAAAAAEAAAAAAAAAAgAAAAIAAAABAAAAAgAAAAEAAAAAAAAAAAAAAAIAAAAAAAAAAAAAAAAAAAACAAAAAgAAAAAAAAACAAAAAQAAAAIAAAAAAAAAAQAAAAIAAAAAAAAAAgAAAAEAAAAAAAAAAAAAAAAAAAABAAAAAgAAAAEAAAACAAAAAgAAAAIAAAAAAAAAAgAAAAAAAAAAAAAAAQAAAAIAAAABAAAAAgAAAAIAAAACAAAAAgAAAAIAAAAAAAAAAgAAAAIAAAACAAAAAQAAAAIAAAACAAAAAAAAAAIAAAAAAAAAAgAAAAAAAAACAAAAAAAAAAIAAAACAAAAAAAAAAEAAAACAAAAAgAAAAEAAAACAAAAAgAAAAAAAAAAAAAAAAAAAAAAAAAAAAAAAgAAAAIAAAACAAAAAgAAAAEAAAAAAAAAAAAAAAIAAAAAAAAAAAAAAAAAAAACAAAAAgAAAAIAAAABAAAAAAAAAAIAAAAAAAAAAgAAAAAAAAAAAAAAAAAAAAAAAAABAAAAAAAAAAEAAAABAAAAAgAAAAAAAAACAAAAAgAAAAAAAAACAAAAAAAAAAAAAAAAAAAAAgAAAAEAAAACAAAAAgAAAAIAAAACAAAAAAAAAAAAAAABAAAAAAAAAAAAAAABAAAAAQAAAAIAAAAAAAAAAQAAAAAAAAACAAAAAgAAAAAAAAABAAAAAgAAAAAAAAACAAAAAAAAAAAAAAAAAAAAAgAAAAIAAAABAAAAAAAAAAIAAAAAAAAAAAAAAAAAAAAAAAAAAgAAAAAAAAABAAAAAQAAAAIAAAACAAAAAQAAAAEAAAACAAAAAAAAAAEAAAAAAAAAAAAAAAAAAAABAAAAAAAAAAIAAAACAAAAAgAAAAIAAAACAAAAAAAAAAEAAAACAAAAAQAAAAAAAAAAAAAAAAAAAAAAAAAAAAAAAgAAAAAAAAAAAAAAAgAAAAIAAAABAAAAAAAAAAAAAAACAAAAAgAAAAAAAAAAAAAAAgAAAAIAAAAAAAAAAAAAAAEAAAABAAAAAgAAAAIAAAAAAAAAAAAAAAAAAAAAAAAAAgAAAAAAAAABAAAAAgAAAAAAAAAAAAAAAAAAAAAAAAACAAAAAQAAAAIAAAACAAAAAAAAAAEAAAACAAAAAgAAAAAAAAACAAAAAgAAAAIAAAACAAAAAQAAAAEAAAABAAAAAgAAAAAAAAAAAAAAAQAAAAEAAAACAAAAAgAAAAEAAAAAAAAAAQAAAAIAAAACAAAAAgAAAAIAAAAAAAAAAQAAAAEAAAACAAAAAQAAAAIAAAAAAAAAAQAAAAIAAAACAAAAAgAAAAIAAAAAAAAAAgAAAAAAAAACAAAAAgAAAAEAAAACAAAAAgAAAAIAAAABAAAAAAAAAAEAAAACAAAAAQAAAAEAAAAAAAAAAgAAAAAAAAAAAAAAAAAAAAIAAAACAAAAAQAAAAIAAAACAAAAAAAAAAAAAAACAAAAAAAAAAEAAAACAAAAAQAAAAIAAAABAAAAAAAAAAAAAAACAAAAAgAAAAAAAAABAAAAAQAAAAIAAAACAAAAAgAAAAEAAAABAAAAAgAAAAAAAAAAAAAAAgAAAAEAAAACAAAAAAAAAAIAAAACAAAAAAAAAAAAAAACAAAAAAAAAAAAAAACAAAAAgAAAAEAAAACAAAAAAAAAAAAAAACAAAAAQAAAAAAAAACAAAAAAAAAAIAAAACAAAAAgAAAAEAAAABAAAAAgAAAAAAAAABAAAAAgAAAAIAAAAAAAAAAQAAAAIAAAACAAAAAQAAAAIAAAACAAAAAQAAAAIAAAABAAAAAgAAAAAAAAAAAAAAAgAAAAIAAAAAAAAAAgAAAAAAAAACAAAAAgAAAAIAAAACAAAAAAAAAAAAAAACAAAAAAAAAAAAAAAAAAAAAAAAAAEAAAAAAAAAAgAAAAIAAAACAAAAAQAAAAEAAAAAAAAAAAAAAAIAAAABAAAAAAAAAAIAAAAAAAAAAgAAAAAAAAAAAAAAAgAAAAAAAAAAAAAAAQAAAAIAAAABAAAAAgAAAAIAAAAAAAAAAAAAAAAAAAAAAAAAAAAAAAAAAAACAAAAAQAAAAAAAAACAAAAAQAAAAAAAAACAAAAAAAAAAEAAAAAAAAAAAAAAAIAAAAAAAAAAAAAAAIAAAAAAAAAAQAAAAAAAAAAAAAAAQAAAAIAAAACAAAAAQAAAAAAAAACAAAAAAAAAAAAAAAAAAAAAAAAAAEAAAACAAAAAQAAAAAAAAAAAAAAAgAAAAAAAAAAAAAAAQAAAAAAAAACAAAAAgAAAAIAAAACAAAAAgAAAAEAAAAAAAAAAQAAAAAAAAAAAAAAAQAAAAIAAAAAAAAAAgAAAAIAAAAAAAAAAAAAAAIAAAAAAAAAAQAAAAIAAAAAAAAAAgAAAAEAAAACAAAAAAAAAAAAAAAAAAAAAAAAAAAAAAACAAAAAgAAAAAAAAAAAAAAAAAAAAAAAAACAAAAAAAAAAEAAAACAAAAAgAAAAAAAAAAAAAAAgAAAAIAAAACAAAAAQAAAAAAAAACAAAAAgAAAAAAAAABAAAAAQAAAAIAAAACAAAAAAAAAAIAAAAAAAAAAQAAAAEAAAACAAAAAAAAAAIAAAAAAAAAAgAAAAIAAAAAAAAAAgAAAAIAAAACAAAAAQAAAAIAAAACAAAAAgAAAAIAAAAAAAAAAQAAAAEAAAACAAAAAgAAAAAAAAAAAAAAAgAAAAEAAAACAAAAAgAAAAEAAAACAAAAAgAAAAIAAAACAAAAAgAAAAIAAAABAAAAAgAAAAAAAAACAAAAAgAAAAEAAAACAAAAAAAAAAIAAAACAAAAAQAAAAEAAAAAAAAAAgAAAAIAAAAAAAAAAAAAAAIAAAAAAAAAAAAAAAIAAAACAAAAAAAAAAIAAAABAAAAAQAAAAIAAAACAAAAAQAAAAIAAAACAAAAAQAAAAEAAAABAAAAAAAAAAEAAAABAAAAAQAAAAEAAAACAAAAAgAAAAIAAAABAAAAAgAAAAIAAAACAAAAAgAAAAEAAAABAAAAAAAAAAIAAAACAAAAAAAAAAEAAAACAAAAAAAAAAIAAAACAAAAAgAAAAIAAAAAAAAAAQAAAAIAAAABAAAAAgAAAAIAAAACAAAAAgAAAAIAAAAAAAAAAgAAAAAAAAACAAAAAgAAAAIAAAAAAAAAAgAAAAEAAAAAAAAAAQAAAAAAAAACAAAAAgAAAAIAAAACAAAAAQAAAAIAAAACAAAAAgAAAAAAAAAAAAAAAgAAAAEAAAABAAAAAgAAAAIAAAAAAAAAAgAAAAAAAAABAAAAAgAAAAIAAAACAAAAAgAAAAEAAAAAAAAAAgAAAAIAAAACAAAAAgAAAAEAAAACAAAAAAAAAAIAAAACAAAAAgAAAAIAAAACAAAAAQAAAAAAAAABAAAAAAAAAAAAAAACAAAAAQAAAAAAAAACAAAAAQAAAAIAAAACAAAAAgAAAAAAAAACAAAAAAAAAAAAAAAAAAAAAAAAAAAAAAACAAAAAgAAAAIAAAAAAAAAAgAAAAEAAAABAAAAAgAAAAAAAAABAAAAAgAAAAAAAAABAAAAAQAAAAIAAAACAAAAAgAAAAAAAAACAAAAAAAAAAIAAAABAAAAAAAAAAAAAAAAAAAAAgAAAAAAAAACAAAAAgAAAAIAAAAAAAAAAgAAAAAAAAABAAAAAgAAAAEAAAACAAAAAAAAAAEAAAACAAAAAAAAAAEAAAABAAAAAgAAAAEAAAAAAAAAAQAAAAIAAAACAAAAAgAAAAIAAAACAAAAAgAAAAIAAAACAAAAAgAAAAEAAAACAAAAAAAAAAEAAAAAAAAAAQAAAAAAAAAAAAAAAgAAAAIAAAACAAAAAAAAAAIAAAAAAAAAAQAAAAIAAAACAAAAAQAAAAIAAAAAAAAAAAAAAAAAAAABAAAAAgAAAAIAAAAAAAAAAAAAAAIAAAAAAAAAAgAAAAIAAAACAAAAAAAAAAIAAAACAAAAAAAAAAAAAAAAAAAAAgAAAAAAAAAAAAAAAgAAAAAAAAACAAAAAgAAAAAAAAABAAAAAQAAAAIAAAAAAAAAAgAAAAAAAAABAAAAAgAAAAIAAAACAAAAAgAAAAIAAAAAAAAAAgAAAAIAAAACAAAAAQAAAAIAAAACAAAAAQAAAAEAAAACAAAAAAAAAAIAAAACAAAAAAAAAAIAAAACAAAAAgAAAAEAAAAAAAAAAAAAAAAAAAAAAAAAAgAAAAIAAAABAAAAAAAAAAAAAAACAAAAAQAAAAIAAAACAAAAAQAAAAIAAAACAAAAAgAAAAEAAAACAAAAAAAAAAAAAAACAAAAAgAAAAAAAAACAAAAAQAAAAIAAAAAAAAAAgAAAAAAAAACAAAAAQAAAAAAAAACAAAAAgAAAAIAAAAAAAAAAAAAAAAAAAACAAAAAAAAAAAAAAAAAAAAAQAAAAAAAAABAAAAAAAAAAAAAAAAAAAAAAAAAAEAAAAAAAAAAQAAAAAAAAABAAAAAgAAAAAAAAABAAAAAgAAAAIAAAAAAAAAAQAAAAAAAAAAAAAAAgAAAAAAAAAAAAAAAgAAAAAAAAACAAAAAgAAAAIAAAACAAAAAAAAAAAAAAAAAAAAAQAAAAIAAAACAAAAAAAAAAAAAAACAAAAAgAAAAIAAAAAAAAAAAAAAAAAAAAAAAAAAQAAAAEAAAABAAAAAgAAAAEAAAAAAAAAAAAAAAEAAAABAAAAAQAAAAIAAAAAAAAAAAAAAAIAAAABAAAAAgAAAAIAAAABAAAAAgAAAAIAAAACAAAAAgAAAAEAAAABAAAAAAAAAAIAAAABAAAAAAAAAAEAAAAAAAAAAgAAAAEAAAACAAAAAgAAAAAAAAABAAAAAAAAAAEAAAACAAAAAQAAAAIAAAAAAAAAAgAAAAIAAAACAAAAAgAAAAIAAAAAAAAAAAAAAAIAAAACAAAAAgAAAAAAAAACAAAAAQAAAAIAAAACAAAAAQAAAAAAAAABAAAAAgAAAAAAAAAAAAAAAAAAAAAAAAACAAAAAQAAAAIAAAACAAAAAAAAAAAAAAABAAAAAgAAAAAAAAAAAAAAAgAAAAEAAAABAAAAAAAAAAAAAAAAAAAAAgAAAAIAAAABAAAAAQAAAAIAAAACAAAAAgAAAAEAAAACAAAAAQAAAAIAAAAAAAAAAAAAAAIAAAAAAAAAAgAAAAAAAAACAAAAAAAAAAAAAAACAAAAAAAAAAEAAAAAAAAAAgAAAAAAAAACAAAAAQAAAAIAAAAAAAAAAgAAAAIAAAABAAAAAQAAAAAAAAABAAAAAgAAAAIAAAAAAAAAAgAAAAIAAAACAAAAAgAAAAEAAAAAAAAAAAAAAAIAAAAAAAAAAgAAAAIAAAACAAAAAQAAAAEAAAABAAAAAgAAAAIAAAACAAAAAQAAAAAAAAACAAAAAAAAAAEAAAAAAAAAAgAAAAAAAAABAAAAAgAAAAIAAAACAAAAAgAAAAIAAAAAAAAAAAAAAAEAAAAAAAAAAgAAAAIAAAAAAAAAAAAAAAEAAAAAAAAAAAAAAAIAAAACAAAAAAAAAAIAAAAAAAAAAAAAAAIAAAACAAAAAAAAAAIAAAACAAAAAAAAAAEAAAACAAAAAgAAAAEAAAAAAAAAAQAAAAAAAAACAAAAAAAAAAIAAAABAAAAAgAAAAAAAAACAAAAAgAAAAAAAAABAAAAAgAAAAIAAAAAAAAAAQAAAAIAAAACAAAAAQAAAAAAAAACAAAAAAAAAAEAAAACAAAAAQAAAAAAAAACAAAAAgAAAAAAAAABAAAAAgAAAAEAAAACAAAAAQAAAAIAAAABAAAAAQAAAAIAAAABAAAAAgAAAAAAAAAAAAAAAgAAAAIAAAAAAAAAAQAAAAEAAAACAAAAAgAAAAAAAAABAAAAAAAAAAIAAAACAAAAAgAAAAEAAAAAAAAAAgAAAAEAAAAAAAAAAgAAAAIAAAACAAAAAQAAAAIAAAACAAAAAgAAAAIAAAACAAAAAgAAAAAAAAACAAAAAAAAAAIAAAABAAAAAQAAAAIAAAAAAAAAAQAAAAAAAAAAAAAAAAAAAAIAAAACAAAAAAAAAAIAAAAAAAAAAgAAAAAAAAAAAAAAAAAAAAEAAAAAAAAAAgAAAAEAAAABAAAAAgAAAAEAAAABAAAAAgAAAAIAAAAAAAAAAQAAAAAAAAACAAAAAAAAAAIAAAACAAAAAAAAAAEAAAAAAAAAAgAAAAEAAAAAAAAAAAAAAAAAAAAAAAAAAQAAAAAAAAABAAAAAQAAAAIAAAACAAAAAAAAAAIAAAACAAAAAAAAAAAAAAAAAAAAAgAAAAIAAAACAAAAAgAAAAAAAAAAAAAAAgAAAAAAAAACAAAAAAAAAAIAAAABAAAAAgAAAAAAAAACAAAAAQAAAAAAAAABAAAAAgAAAAAAAAACAAAAAAAAAAIAAAAAAAAAAgAAAAIAAAACAAAAAgAAAAEAAAABAAAAAgAAAAAAAAABAAAAAAAAAAAAAAABAAAAAAAAAAIAAAAAAAAAAAAAAAIAAAABAAAAAQAAAAAAAAACAAAAAgAAAAAAAAAAAAAAAAAAAAEAAAACAAAAAgAAAAEAAAAAAAAAAgAAAAEAAAABAAAAAAAAAAEAAAACAAAAAgAAAAIAAAABAAAAAQAAAAIAAAAAAAAAAQAAAAIAAAAAAAAAAgAAAAAAAAACAAAAAAAAAAAAAAABAAAAAQAAAAAAAAAAAAAAAgAAAAIAAAAAAAAAAAAAAAIAAAACAAAAAAAAAAIAAAABAAAAAgAAAAAAAAAAAAAAAQAAAAIAAAABAAAAAQAAAAIAAAACAAAAAgAAAAAAAAABAAAAAgAAAAIAAAACAAAAAgAAAAAAAAAAAAAAAgAAAAIAAAAAAAAAAQAAAAIAAAAAAAAAAQAAAAIAAAAAAAAAAgAAAAEAAAACAAAAAgAAAAEAAAAAAAAAAQAAAAAAAAACAAAAAQAAAAAAAAAAAAAAAgAAAAIAAAAAAAAAAAAAAAIAAAAAAAAAAAAAAAEAAAABAAAAAAAAAAEAAAAAAAAAAgAAAAAAAAAAAAAAAQAAAAAAAAAAAAAAAAAAAAAAAAACAAAAAgAAAAEAAAACAAAAAAAAAAEAAAACAAAAAQAAAAIAAAABAAAAAAAAAAIAAAACAAAAAQAAAAAAAAAAAAAAAAAAAAEAAAACAAAAAgAAAAAAAAAAAAAAAQAAAAAAAAACAAAAAAAAAAEAAAABAAAAAgAAAAIAAAACAAAAAgAAAAIAAAABAAAAAAAAAAEAAAACAAAAAgAAAAIAAAAAAAAAAgAAAAIAAAACAAAAAQAAAAEAAAABAAAAAAAAAAIAAAAAAAAAAgAAAAIAAAACAAAAAgAAAAEAAAACAAAAAAAAAAIAAAABAAAAAgAAAAEAAAACAAAAAgAAAAIAAAACAAAAAgAAAAIAAAABAAAAAgAAAAEAAAAAAAAAAQAAAAIAAAABAAAAAAAAAAIAAAABAAAAAQAAAAEAAAACAAAAAAAAAAIAAAACAAAAAgAAAAIAAAABAAAAAgAAAAAAAAACAAAAAgAAAAEAAAACAAAAAgAAAAEAAAACAAAAAAAAAAAAAAACAAAAAgAAAAEAAAACAAAAAAAAAAEAAAAAAAAAAAAAAAAAAAAAAAAAAAAAAAEAAAACAAAAAgAAAAIAAAACAAAAAAAAAAIAAAAAAAAAAAAAAAIAAAACAAAAAgAAAAEAAAACAAAAAgAAAAIAAAACAAAAAAAAAAAAAAACAAAAAgAAAAIAAAABAAAAAQAAAAAAAAACAAAAAAAAAAEAAAACAAAAAgAAAAEAAAABAAAAAgAAAAAAAAABAAAAAAAAAAIAAAACAAAAAgAAAAAAAAACAAAAAgAAAAEAAAAAAAAAAgAAAAEAAAACAAAAAAAAAAAAAAAAAAAAAQAAAAIAAAABAAAAAAAAAAEAAAABAAAAAgAAAAEAAAAAAAAAAQAAAAEAAAABAAAAAAAAAAIAAAABAAAAAgAAAAIAAAABAAAAAAAAAAAAAAACAAAAAAAAAAAAAAACAAAAAAAAAAIAAAACAAAAAAAAAAAAAAACAAAAAgAAAAIAAAAAAAAAAgAAAAAAAAACAAAAAgAAAAIAAAACAAAAAAAAAAAAAAACAAAAAgAAAAEAAAACAAAAAAAAAAIAAAABAAAAAgAAAAIAAAAAAAAAAQAAAAIAAAAAAAAAAQAAAAAAAAACAAAAAgAAAAAAAAAAAAAAAAAAAAIAAAACAAAAAAAAAAIAAAACAAAAAQAAAAIAAAAAAAAAAAAAAAIAAAACAAAAAgAAAAEAAAACAAAAAAAAAAIAAAAAAAAAAgAAAAIAAAACAAAAAAAAAAIAAAAAAAAAAAAAAAEAAAACAAAAAgAAAAIAAAABAAAAAgAAAAAAAAAAAAAAAAAAAAIAAAACAAAAAgAAAAAAAAAAAAAAAQAAAAEAAAAAAAAAAgAAAAIAAAACAAAAAQAAAAAAAAACAAAAAgAAAAIAAAACAAAAAgAAAAAAAAABAAAAAgAAAAIAAAABAAAAAAAAAAIAAAACAAAAAgAAAAAAAAAAAAAAAQAAAAAAAAAAAAAAAgAAAAAAAAACAAAAAgAAAAAAAAAAAAAAAAAAAAIAAAABAAAAAAAAAAEAAAACAAAAAQAAAAAAAAAAAAAAAgAAAAIAAAAAAAAAAQAAAAEAAAAAAAAAAAAAAAIAAAACAAAAAgAAAAAAAAAAAAAAAgAAAAEAAAABAAAAAgAAAAIAAAACAAAAAgAAAAIAAAACAAAAAgAAAAEAAAAAAAAAAQAAAAEAAAACAAAAAQAAAAIAAAACAAAAAgAAAAAAAAAAAAAAAgAAAAIAAAACAAAAAgAAAAAAAAAAAAAAAgAAAAEAAAABAAAAAQAAAAIAAAAAAAAAAgAAAAAAAAACAAAAAAAAAAIAAAABAAAAAQAAAAEAAAACAAAAAgAAAAIAAAAAAAAAAgAAAAIAAAAAAAAAAgAAAAAAAAAAAAAAAQAAAAIAAAABAAAAAAAAAAIAAAABAAAAAAAAAAIAAAACAAAAAQAAAAIAAAAAAAAAAgAAAAIAAAAAAAAAAQAAAAEAAAAAAAAAAgAAAAEAAAACAAAAAgAAAAEAAAACAAAAAgAAAAAAAAAAAAAAAQAAAAAAAAACAAAAAAAAAAAAAAAAAAAAAQAAAAAAAAACAAAAAgAAAAAAAAACAAAAAgAAAAIAAAACAAAAAQAAAAIAAAABAAAAAAAAAAEAAAABAAAAAAAAAAAAAAAAAAAAAgAAAAIAAAACAAAAAQAAAAAAAAACAAAAAQAAAAAAAAACAAAAAAAAAAEAAAACAAAAAQAAAAEAAAAAAAAAAgAAAAEAAAACAAAAAAAAAAIAAAAAAAAAAAAAAAAAAAAAAAAAAgAAAAIAAAABAAAAAAAAAAAAAAABAAAAAQAAAAIAAAAAAAAAAAAAAAAAAAAAAAAAAgAAAAAAAAAAAAAAAAAAAAIAAAACAAAAAgAAAAIAAAABAAAAAAAAAAIAAAABAAAAAgAAAAEAAAAAAAAAAgAAAAAAAAACAAAAAgAAAAIAAAAAAAAAAAAAAAEAAAABAAAAAAAAAAIAAAAAAAAAAgAAAAEAAAACAAAAAgAAAAEAAAACAAAAAQAAAAAAAAAAAAAAAgAAAAAAAAAAAAAAAgAAAAEAAAACAAAAAgAAAAIAAAACAAAAAAAAAAAAAAAAAAAAAAAAAAEAAAACAAAAAgAAAAIAAAACAAAAAQAAAAAAAAACAAAAAAAAAAAAAAACAAAAAQAAAAIAAAACAAAAAAAAAAIAAAACAAAAAAAAAAIAAAAAAAAAAgAAAAAAAAACAAAAAgAAAAAAAAAAAAAAAgAAAAIAAAACAAAAAAAAAAAAAAACAAAAAAAAAAIAAAAAAAAAAgAAAAAAAAAAAAAAAgAAAAIAAAAAAAAAAAAAAAAAAAAAAAAAAQAAAAAAAAAAAAAAAAAAAAEAAAABAAAAAAAAAAIAAAAAAAAAAAAAAAEAAAAAAAAAAgAAAAEAAAAAAAAAAgAAAAAAAAAAAAAAAgAAAAEAAAAAAAAAAAAAAAIAAAACAAAAAgAAAAAAAAABAAAAAgAAAAAAAAAAAAAAAAAAAAIAAAACAAAAAQAAAAAAAAABAAAAAgAAAAAAAAACAAAAAAAAAAEAAAACAAAAAQAAAAAAAAACAAAAAAAAAAEAAAAAAAAAAQAAAAIAAAACAAAAAgAAAAIAAAACAAAAAgAAAAIAAAAAAAAAAAAAAAAAAAABAAAAAAAAAAAAAAABAAAAAAAAAAIAAAACAAAAAgAAAAAAAAAAAAAAAQAAAAIAAAACAAAAAAAAAAIAAAACAAAAAgAAAAIAAAAAAAAAAQAAAAIAAAACAAAAAAAAAAAAAAAAAAAAAAAAAAIAAAACAAAAAgAAAAIAAAACAAAAAQAAAAAAAAAAAAAAAgAAAAIAAAACAAAAAQAAAAAAAAACAAAAAAAAAAIAAAACAAAAAQAAAAAAAAAAAAAAAgAAAAIAAAACAAAAAgAAAAIAAAACAAAAAQAAAAAAAAABAAAAAgAAAAIAAAAAAAAAAAAAAAIAAAACAAAAAQAAAAIAAAABAAAAAgAAAAIAAAACAAAAAgAAAAEAAAABAAAAAgAAAAIAAAAAAAAAAgAAAAIAAAACAAAAAgAAAAIAAAACAAAAAAAAAAAAAAACAAAAAgAAAAEAAAACAAAAAQAAAAAAAAAAAAAAAQAAAAEAAAABAAAAAgAAAAIAAAACAAAAAgAAAAEAAAAAAAAAAgAAAAEAAAABAAAAAAAAAAAAAAABAAAAAAAAAAAAAAAAAAAAAgAAAAIAAAAAAAAAAAAAAAEAAAACAAAAAAAAAAEAAAACAAAAAAAAAAIAAAACAAAAAAAAAAAAAAABAAAAAgAAAAIAAAACAAAAAQAAAAEAAAABAAAAAgAAAAAAAAAAAAAAAQAAAAEAAAABAAAAAgAAAAEAAAABAAAAAQAAAAAAAAABAAAAAgAAAAAAAAAAAAAAAQAAAAIAAAAAAAAAAgAAAAIAAAACAAAAAgAAAAAAAAACAAAAAAAAAAEAAAABAAAAAAAAAAEAAAACAAAAAgAAAAAAAAACAAAAAQAAAAAAAAAAAAAAAAAAAAAAAAABAAAAAAAAAAIAAAABAAAAAAAAAAAAAAACAAAAAgAAAAAAAAAAAAAAAgAAAAIAAAACAAAAAQAAAAEAAAABAAAAAQAAAAEAAAACAAAAAgAAAAAAAAACAAAAAQAAAAAAAAAAAAAAAAAAAAAAAAAAAAAAAAAAAAEAAAAAAAAAAAAAAAEAAAABAAAAAAAAAAAAAAABAAAAAgAAAAIAAAABAAAAAAAAAAIAAAAAAAAAAQAAAAIAAAABAAAAAgAAAAAAAAAAAAAAAQAAAAEAAAABAAAAAgAAAAIAAAACAAAAAAAAAAEAAAABAAAAAAAAAAAAAAACAAAAAAAAAAIAAAAAAAAAAgAAAAAAAAAAAAAAAAAAAAAAAAABAAAAAAAAAAIAAAACAAAAAAAAAAIAAAACAAAAAAAAAAIAAAAAAAAAAAAAAAIAAAABAAAAAQAAAAAAAAACAAAAAAAAAAIAAAACAAAAAgAAAAIAAAAAAAAAAQAAAAIAAAACAAAAAAAAAAIAAAAAAAAAAAAAAAIAAAABAAAAAAAAAAIAAAAAAAAAAgAAAAIAAAACAAAAAgAAAAIAAAACAAAAAQAAAAAAAAABAAAAAgAAAAEAAAACAAAAAgAAAAIAAAAAAAAAAgAAAAIAAAACAAAAAgAAAAEAAAAAAAAAAgAAAAAAAAACAAAAAAAAAAAAAAAAAAAAAAAAAAAAAAABAAAAAgAAAAAAAAAAAAAAAQAAAAIAAAABAAAAAQAAAAEAAAACAAAAAQAAAAIAAAAAAAAAAgAAAAIAAAACAAAAAAAAAAAAAAACAAAAAgAAAAIAAAAAAAAAAgAAAAIAAAACAAAAAQAAAAEAAAAAAAAAAgAAAAAAAAABAAAAAgAAAAIAAAABAAAAAgAAAAIAAAAAAAAAAQAAAAIAAAACAAAAAgAAAAIAAAABAAAAAgAAAAIAAAABAAAAAAAAAAEAAAACAAAAAAAAAAAAAAAAAAAAAgAAAAIAAAABAAAAAQAAAAEAAAACAAAAAQAAAAIAAAACAAAAAgAAAAAAAAAAAAAAAQAAAAIAAAABAAAAAgAAAAAAAAAAAAAAAAAAAAAAAAACAAAAAgAAAAAAAAAAAAAAAAAAAAIAAAABAAAAAQAAAAIAAAAAAAAAAQAAAAIAAAACAAAAAgAAAAIAAAABAAAAAQAAAAAAAAABAAAAAQAAAAEAAAACAAAAAAAAAAAAAAAAAAAAAgAAAAAAAAAAAAAAAQAAAAEAAAACAAAAAgAAAAAAAAACAAAAAgAAAAAAAAACAAAAAQAAAAIAAAACAAAAAAAAAAIAAAAAAAAAAAAAAAIAAAAAAAAAAgAAAAEAAAAAAAAAAgAAAAAAAAAAAAAAAgAAAAIAAAACAAAAAgAAAAAAAAACAAAAAgAAAAEAAAABAAAAAAAAAAAAAAABAAAAAgAAAAAAAAAAAAAAAQAAAAIAAAACAAAAAAAAAAEAAAAAAAAAAQAAAAAAAAACAAAAAAAAAAEAAAAAAAAAAgAAAAEAAAACAAAAAAAAAAEAAAABAAAAAQAAAAIAAAACAAAAAQAAAAIAAAAAAAAAAgAAAAAAAAAAAAAAAQAAAAAAAAAAAAAAAQAAAAEAAAABAAAAAgAAAAIAAAACAAAAAQAAAAIAAAACAAAAAgAAAAIAAAACAAAAAQAAAAAAAAAAAAAAAAAAAAAAAAAAAAAAAQAAAAIAAAAAAAAAAQAAAAAAAAAAAAAAAgAAAAIAAAACAAAAAgAAAAAAAAACAAAAAQAAAAIAAAACAAAAAAAAAAIAAAABAAAAAgAAAAEAAAACAAAAAQAAAAAAAAACAAAAAAAAAAIAAAACAAAAAgAAAAEAAAAAAAAAAAAAAAAAAAACAAAAAgAAAAAAAAACAAAAAgAAAAEAAAACAAAAAAAAAAEAAAABAAAAAQAAAAIAAAAAAAAAAgAAAAAAAAACAAAAAgAAAAIAAAACAAAAAgAAAAIAAAACAAAAAgAAAAEAAAACAAAAAAAAAAAAAAACAAAAAAAAAAIAAAABAAAAAgAAAAAAAAAAAAAAAgAAAAIAAAAAAAAAAgAAAAAAAAAAAAAAAgAAAAAAAAACAAAAAQAAAAAAAAAAAAAAAQAAAAEAAAAAAAAAAAAAAAAAAAAAAAAAAgAAAAIAAAAAAAAAAQAAAAEAAAACAAAAAgAAAAIAAAAAAAAAAAAAAAAAAAABAAAAAgAAAAEAAAAAAAAAAgAAAAIAAAAAAAAAAgAAAAEAAAAAAAAAAgAAAAIAAAACAAAAAQAAAAIAAAACAAAAAgAAAAAAAAACAAAAAAAAAAIAAAAAAAAAAAAAAAAAAAAAAAAAAgAAAAEAAAABAAAAAgAAAAIAAAABAAAAAQAAAAEAAAAAAAAAAQAAAAAAAAAAAAAAAQAAAAAAAAABAAAAAgAAAAIAAAACAAAAAQAAAAAAAAACAAAAAgAAAAAAAAACAAAAAQAAAAIAAAABAAAAAAAAAAIAAAACAAAAAQAAAAIAAAACAAAAAQAAAAEAAAACAAAAAQAAAAAAAAACAAAAAAAAAAAAAAACAAAAAgAAAAEAAAACAAAAAgAAAAEAAAABAAAAAAAAAAEAAAABAAAAAgAAAAEAAAACAAAAAgAAAAIAAAACAAAAAQAAAAAAAAACAAAAAgAAAAAAAAABAAAAAAAAAAAAAAAAAAAAAgAAAAIAAAACAAAAAgAAAAAAAAAAAAAAAgAAAAIAAAABAAAAAgAAAAAAAAACAAAAAAAAAAAAAAACAAAAAAAAAAEAAAACAAAAAQAAAAIAAAAAAAAAAgAAAAAAAAACAAAAAgAAAAIAAAACAAAAAAAAAAEAAAACAAAAAAAAAAAAAAAAAAAAAAAAAAAAAAACAAAAAAAAAAIAAAACAAAAAgAAAAIAAAAAAAAAAQAAAAEAAAACAAAAAgAAAAIAAAAAAAAAAAAAAAIAAAABAAAAAgAAAAIAAAACAAAAAgAAAAAAAAABAAAAAgAAAAEAAAAAAAAAAgAAAAIAAAABAAAAAgAAAAIAAAABAAAAAAAAAAAAAAABAAAAAQAAAAAAAAAAAAAAAgAAAAIAAAACAAAAAAAAAAAAAAABAAAAAgAAAAEAAAACAAAAAQAAAAIAAAAAAAAAAQAAAAIAAAACAAAAAQAAAAAAAAAAAAAAAAAAAAIAAAAAAAAAAQAAAAIAAAACAAAAAAAAAAIAAAACAAAAAgAAAAIAAAABAAAAAAAAAAEAAAACAAAAAgAAAAIAAAACAAAAAgAAAAIAAAACAAAAAAAAAAIAAAACAAAAAQAAAAEAAAACAAAAAgAAAAIAAAAAAAAAAQAAAAIAAAACAAAAAgAAAAEAAAACAAAAAAAAAAEAAAAAAAAAAAAAAAEAAAACAAAAAQAAAAIAAAACAAAAAQAAAAAAAAACAAAAAQAAAAEAAAAAAAAAAAAAAAIAAAAAAAAAAgAAAAEAAAAAAAAAAgAAAAEAAAAAAAAAAgAAAAEAAAABAAAAAgAAAAIAAAABAAAAAgAAAAAAAAABAAAAAAAAAAAAAAACAAAAAAAAAAEAAAAAAAAAAQAAAAEAAAAAAAAAAgAAAAAAAAABAAAAAgAAAAIAAAACAAAAAgAAAAIAAAABAAAAAAAAAAEAAAAAAAAAAgAAAAIAAAACAAAAAgAAAAIAAAABAAAAAgAAAAAAAAACAAAAAQAAAAAAAAACAAAAAgAAAAEAAAAAAAAAAgAAAAEAAAABAAAAAgAAAAAAAAABAAAAAQAAAAIAAAACAAAAAgAAAAIAAAAAAAAAAgAAAAIAAAABAAAAAAAAAAIAAAAAAAAAAgAAAAAAAAAAAAAAAgAAAAIAAAACAAAAAgAAAAAAAAACAAAAAAAAAAIAAAACAAAAAQAAAAEAAAAAAAAAAQAAAAIAAAACAAAAAgAAAAIAAAAAAAAAAQAAAAIAAAABAAAAAAAAAAIAAAAAAAAAAAAAAAAAAAABAAAAAgAAAAAAAAACAAAAAAAAAAEAAAAAAAAAAgAAAAIAAAACAAAAAgAAAAIAAAAAAAAAAgAAAAAAAAABAAAAAAAAAAEAAAACAAAAAAAAAAIAAAAAAAAAAgAAAAIAAAAAAAAAAQAAAAEAAAACAAAAAgAAAAEAAAABAAAAAgAAAAAAAAACAAAAAAAAAAIAAAACAAAAAgAAAAEAAAACAAAAAQAAAAIAAAACAAAAAAAAAAAAAAACAAAAAgAAAAAAAAACAAAAAQAAAAAAAAABAAAAAQAAAAIAAAACAAAAAAAAAAIAAAACAAAAAAAAAAEAAAACAAAAAAAAAAIAAAABAAAAAAAAAAIAAAACAAAAAgAAAAIAAAACAAAAAgAAAAAAAAACAAAAAgAAAAIAAAABAAAAAgAAAAAAAAACAAAAAAAAAAAAAAABAAAAAAAAAAAAAAAAAAAAAgAAAAAAAAABAAAAAAAAAAIAAAACAAAAAQAAAAEAAAABAAAAAAAAAAEAAAACAAAAAAAAAAEAAAACAAAAAgAAAAIAAAAAAAAAAQAAAAIAAAACAAAAAQAAAAEAAAACAAAAAAAAAAIAAAAAAAAAAAAAAAAAAAAAAAAAAAAAAAIAAAABAAAAAgAAAAEAAAACAAAAAAAAAAEAAAABAAAAAgAAAAAAAAACAAAAAAAAAAIAAAACAAAAAgAAAAAAAAACAAAAAgAAAAAAAAAAAAAAAgAAAAAAAAAAAAAAAgAAAAIAAAACAAAAAgAAAAIAAAAAAAAAAQAAAAAAAAAAAAAAAAAAAAAAAAACAAAAAgAAAAEAAAACAAAAAgAAAAAAAAAAAAAAAAAAAAAAAAAAAAAAAgAAAAAAAAAAAAAAAgAAAAIAAAAAAAAAAAAAAAIAAAACAAAAAAAAAAIAAAACAAAAAAAAAAEAAAACAAAAAQAAAAAAAAACAAAAAgAAAAIAAAACAAAAAgAAAAEAAAACAAAAAQAAAAIAAAACAAAAAQAAAAAAAAAAAAAAAAAAAAEAAAAAAAAAAgAAAAAAAAACAAAAAQAAAAIAAAACAAAAAgAAAAIAAAACAAAAAAAAAAEAAAACAAAAAAAAAAIAAAAAAAAAAgAAAAIAAAACAAAAAgAAAAIAAAACAAAAAgAAAAEAAAAAAAAAAAAAAAIAAAAAAAAAAQAAAAIAAAACAAAAAQAAAAAAAAACAAAAAgAAAAEAAAABAAAAAQAAAAAAAAACAAAAAgAAAAAAAAABAAAAAgAAAAEAAAACAAAAAQAAAAAAAAACAAAAAAAAAAIAAAACAAAAAQAAAAIAAAACAAAAAQAAAAIAAAABAAAAAAAAAAAAAAACAAAAAgAAAAAAAAACAAAAAAAAAAIAAAAAAAAAAAAAAAAAAAACAAAAAAAAAAAAAAAAAAAAAAAAAAIAAAACAAAAAAAAAAEAAAACAAAAAgAAAAEAAAACAAAAAAAAAAEAAAACAAAAAgAAAAIAAAACAAAAAAAAAAIAAAAAAAAAAgAAAAIAAAABAAAAAQAAAAIAAAACAAAAAQAAAAEAAAACAAAAAQAAAAIAAAACAAAAAgAAAAIAAAAAAAAAAgAAAAAAAAACAAAAAAAAAAIAAAACAAAAAgAAAAIAAAABAAAAAgAAAAIAAAACAAAAAgAAAAIAAAACAAAAAAAAAAIAAAAAAAAAAAAAAAEAAAACAAAAAgAAAAEAAAACAAAAAAAAAAIAAAACAAAAAAAAAAIAAAAAAAAAAgAAAAIAAAAAAAAAAAAAAAAAAAACAAAAAgAAAAAAAAACAAAAAgAAAAAAAAACAAAAAAAAAAEAAAACAAAAAQAAAAIAAAABAAAAAQAAAAIAAAACAAAAAgAAAAAAAAABAAAAAQAAAAEAAAACAAAAAAAAAAAAAAAAAAAAAAAAAAEAAAABAAAAAQAAAAIAAAACAAAAAAAAAAEAAAABAAAAAQAAAAIAAAAAAAAAAAAAAAEAAAACAAAAAQAAAAIAAAAAAAAAAgAAAAAAAAACAAAAAgAAAAIAAAAAAAAAAAAAAAAAAAACAAAAAAAAAAEAAAACAAAAAAAAAAAAAAACAAAAAQAAAAIAAAACAAAAAAAAAAEAAAACAAAAAAAAAAIAAAAAAAAAAgAAAAIAAAACAAAAAAAAAAAAAAACAAAAAgAAAAAAAAACAAAAAgAAAAAAAAAAAAAAAgAAAAIAAAAAAAAAAAAAAAEAAAABAAAAAgAAAAEAAAAAAAAAAAAAAAIAAAABAAAAAQAAAAIAAAABAAAAAAAAAAIAAAACAAAAAAAAAAIAAAACAAAAAgAAAAAAAAABAAAAAgAAAAEAAAACAAAAAQAAAAEAAAACAAAAAgAAAAIAAAAAAAAAAQAAAAAAAAACAAAAAAAAAAIAAAAAAAAAAgAAAAEAAAACAAAAAgAAAAEAAAACAAAAAAAAAAAAAAACAAAAAgAAAAIAAAACAAAAAgAAAAAAAAACAAAAAAAAAAAAAAAAAAAAAgAAAAEAAAACAAAAAgAAAAAAAAACAAAAAgAAAAIAAAAAAAAAAgAAAAIAAAABAAAAAQAAAAIAAAAAAAAAAAAAAAEAAAABAAAAAgAAAAIAAAACAAAAAAAAAAAAAAACAAAAAQAAAAIAAAAAAAAAAAAAAAEAAAACAAAAAAAAAAIAAAACAAAAAgAAAAAAAAAAAAAAAQAAAAEAAAACAAAAAgAAAAEAAAACAAAAAgAAAAIAAAAAAAAAAAAAAAIAAAAAAAAAAgAAAAEAAAAAAAAAAgAAAAIAAAACAAAAAAAAAAEAAAABAAAAAgAAAAIAAAABAAAAAAAAAAAAAAACAAAAAAAAAAEAAAAAAAAAAgAAAAAAAAACAAAAAgAAAAAAAAACAAAAAQAAAAEAAAABAAAAAAAAAAIAAAACAAAAAAAAAAIAAAAAAAAAAQAAAAAAAAACAAAAAgAAAAEAAAABAAAAAAAAAAAAAAACAAAAAAAAAAIAAAACAAAAAQAAAAIAAAAAAAAAAAAAAAEAAAABAAAAAgAAAAAAAAAAAAAAAAAAAAEAAAAAAAAAAAAAAAIAAAAAAAAAAQAAAAAAAAACAAAAAQAAAAEAAAAAAAAAAgAAAAAAAAAAAAAAAgAAAAIAAAACAAAAAgAAAAAAAAACAAAAAgAAAAAAAAACAAAAAAAAAAAAAAACAAAAAgAAAAIAAAACAAAAAAAAAAIAAAACAAAAAQAAAAAAAAACAAAAAQAAAAIAAAAAAAAAAQAAAAEAAAAAAAAAAQAAAAAAAAABAAAAAAAAAAIAAAACAAAAAQAAAAIAAAACAAAAAgAAAAAAAAABAAAAAAAAAAIAAAAAAAAAAQAAAAEAAAAAAAAAAgAAAAIAAAACAAAAAgAAAAAAAAACAAAAAAAAAAIAAAAAAAAAAAAAAAIAAAABAAAAAgAAAAIAAAAAAAAAAgAAAAIAAAABAAAAAgAAAAEAAAACAAAAAQAAAAIAAAACAAAAAgAAAAEAAAACAAAAAgAAAAEAAAACAAAAAgAAAAIAAAAAAAAAAgAAAAIAAAAAAAAAAAAAAAIAAAACAAAAAgAAAAIAAAAAAAAAAgAAAAIAAAACAAAAAgAAAAIAAAABAAAAAAAAAAAAAAAAAAAAAQAAAAEAAAACAAAAAAAAAAEAAAACAAAAAAAAAAAAAAACAAAAAgAAAAAAAAACAAAAAQAAAAAAAAACAAAAAQAAAAIAAAABAAAAAgAAAAAAAAACAAAAAAAAAAIAAAACAAAAAgAAAAAAAAAAAAAAAAAAAAIAAAABAAAAAAAAAAIAAAACAAAAAAAAAAAAAAAAAAAAAQAAAAAAAAABAAAAAQAAAAEAAAAAAAAAAAAAAAEAAAABAAAAAgAAAAIAAAAAAAAAAgAAAAIAAAACAAAAAgAAAAIAAAAAAAAAAQAAAAEAAAABAAAAAgAAAAIAAAAAAAAAAgAAAAAAAAAAAAAAAgAAAAAAAAAAAAAAAAAAAAIAAAAAAAAAAQAAAAEAAAABAAAAAgAAAAIAAAAAAAAAAgAAAAAAAAAAAAAAAgAAAAIAAAAAAAAAAAAAAAAAAAAAAAAAAAAAAAIAAAACAAAAAgAAAAIAAAACAAAAAQAAAAAAAAACAAAAAAAAAAIAAAACAAAAAgAAAAIAAAABAAAAAAAAAAAAAAABAAAAAAAAAAIAAAACAAAAAgAAAAIAAAAAAAAAAgAAAAAAAAACAAAAAAAAAAIAAAABAAAAAgAAAAAAAAAAAAAAAgAAAAIAAAAAAAAAAQAAAAIAAAACAAAAAgAAAAIAAAABAAAAAgAAAAIAAAACAAAAAgAAAAAAAAABAAAAAgAAAAEAAAACAAAAAgAAAAAAAAACAAAAAAAAAAIAAAAAAAAAAQAAAAIAAAAAAAAAAgAAAAAAAAABAAAAAQAAAAAAAAABAAAAAAAAAAIAAAABAAAAAgAAAAAAAAAAAAAAAgAAAAIAAAAAAAAAAQAAAAEAAAACAAAAAgAAAAIAAAABAAAAAgAAAAAAAAAAAAAAAAAAAAEAAAABAAAAAgAAAAIAAAAAAAAAAgAAAAAAAAACAAAAAAAAAAIAAAACAAAAAQAAAAEAAAAAAAAAAgAAAAIAAAAAAAAAAQAAAAIAAAAAAAAAAQAAAAIAAAABAAAAAAAAAAIAAAACAAAAAAAAAAAAAAAAAAAAAgAAAAEAAAAAAAAAAAAAAAIAAAAAAAAAAQAAAAEAAAACAAAAAgAAAAEAAAABAAAAAgAAAAAAAAACAAAAAgAAAAAAAAACAAAAAgAAAAIAAAABAAAAAAAAAAEAAAAAAAAAAAAAAAAAAAAAAAAAAQAAAAEAAAABAAAAAgAAAAEAAAACAAAAAQAAAAAAAAAAAAAAAQAAAAEAAAABAAAAAgAAAAAAAAAAAAAAAgAAAAAAAAACAAAAAAAAAAAAAAACAAAAAgAAAAIAAAAAAAAAAAAAAAIAAAABAAAAAgAAAAEAAAABAAAAAAAAAAIAAAABAAAAAQAAAAIAAAAAAAAAAgAAAAAAAAACAAAAAAAAAAIAAAAAAAAAAQAAAAAAAAABAAAAAgAAAAEAAAACAAAAAgAAAAIAAAABAAAAAgAAAAEAAAABAAAAAAAAAAAAAAAAAAAAAgAAAAAAAAAAAAAAAgAAAAIAAAACAAAAAgAAAAEAAAAAAAAAAAAAAAEAAAAAAAAAAgAAAAIAAAAAAAAAAAAAAAAAAAAAAAAAAAAAAAAAAAAAAAAAAAAAAAEAAAABAAAAAgAAAAEAAAABAAAAAgAAAAEAAAAAAAAAAQAAAAEAAAACAAAAAAAAAAIAAAACAAAAAAAAAAIAAAAAAAAAAgAAAAEAAAACAAAAAAAAAAIAAAACAAAAAgAAAAAAAAAAAAAAAAAAAAIAAAACAAAAAQAAAAEAAAACAAAAAQAAAAEAAAABAAAAAAAAAAIAAAACAAAAAgAAAAAAAAACAAAAAAAAAAIAAAACAAAAAgAAAAAAAAABAAAAAAAAAAAAAAABAAAAAgAAAAIAAAACAAAAAgAAAAEAAAACAAAAAgAAAAIAAAACAAAAAgAAAAEAAAAAAAAAAAAAAAIAAAACAAAAAAAAAAAAAAACAAAAAAAAAAIAAAACAAAAAAAAAAIAAAAAAAAAAQAAAAAAAAAAAAAAAQAAAAIAAAACAAAAAQAAAAAAAAACAAAAAQAAAAIAAAABAAAAAQAAAAIAAAAAAAAAAgAAAAIAAAABAAAAAAAAAAAAAAAAAAAAAgAAAAIAAAACAAAAAgAAAAAAAAABAAAAAQAAAAEAAAABAAAAAAAAAAAAAAACAAAAAQAAAAAAAAAAAAAAAgAAAAAAAAACAAAAAQAAAAAAAAABAAAAAQAAAAIAAAACAAAAAgAAAAEAAAACAAAAAgAAAAAAAAACAAAAAAAAAAAAAAAAAAAAAgAAAAAAAAACAAAAAgAAAAIAAAACAAAAAAAAAAEAAAAAAAAAAAAAAAIAAAACAAAAAQAAAAIAAAABAAAAAAAAAAIAAAACAAAAAAAAAAEAAAAAAAAAAgAAAAIAAAACAAAAAgAAAAIAAAACAAAAAAAAAAAAAAAAAAAAAgAAAAIAAAACAAAAAgAAAAIAAAACAAAAAgAAAAAAAAABAAAAAQAAAAIAAAABAAAAAgAAAAIAAAABAAAAAAAAAAIAAAAAAAAAAgAAAAAAAAACAAAAAgAAAAAAAAACAAAAAQAAAAIAAAABAAAAAgAAAAAAAAACAAAAAgAAAAIAAAACAAAAAgAAAAIAAAACAAAAAgAAAAAAAAABAAAAAAAAAAIAAAAAAAAAAAAAAAAAAAAAAAAAAQAAAAEAAAACAAAAAgAAAAEAAAACAAAAAgAAAAIAAAABAAAAAgAAAAAAAAAAAAAAAQAAAAIAAAAAAAAAAAAAAAEAAAABAAAAAQAAAAIAAAACAAAAAAAAAAAAAAABAAAAAgAAAAAAAAABAAAAAAAAAAIAAAABAAAAAQAAAAAAAAACAAAAAQAAAAIAAAAAAAAAAAAAAAAAAAAAAAAAAgAAAAIAAAAAAAAAAgAAAAIAAAAAAAAAAQAAAAIAAAABAAAAAgAAAAAAAAAAAAAAAgAAAAIAAAAAAAAAAgAAAAEAAAACAAAAAgAAAAAAAAACAAAAAAAAAAIAAAACAAAAAgAAAAAAAAABAAAAAgAAAAIAAAABAAAAAgAAAAIAAAACAAAAAAAAAAIAAAAAAAAAAQAAAAAAAAABAAAAAAAAAAAAAAABAAAAAgAAAAAAAAACAAAAAQAAAAIAAAACAAAAAAAAAAIAAAABAAAAAAAAAAAAAAAAAAAAAgAAAAIAAAABAAAAAgAAAAAAAAABAAAAAAAAAAEAAAABAAAAAAAAAAIAAAACAAAAAQAAAAEAAAAAAAAAAAAAAAAAAAACAAAAAAAAAAIAAAAAAAAAAQAAAAAAAAABAAAAAQAAAAEAAAAAAAAAAAAAAAIAAAACAAAAAgAAAAIAAAAAAAAAAAAAAAEAAAACAAAAAAAAAAAAAAABAAAAAgAAAAAAAAACAAAAAAAAAAEAAAACAAAAAgAAAAEAAAAAAAAAAgAAAAEAAAACAAAAAgAAAAAAAAACAAAAAAAAAAAAAAACAAAAAgAAAAAAAAAAAAAAAgAAAAEAAAACAAAAAgAAAAEAAAABAAAAAQAAAAEAAAABAAAAAAAAAAIAAAACAAAAAgAAAAIAAAAAAAAAAgAAAAIAAAAAAAAAAgAAAAIAAAACAAAAAAAAAAEAAAACAAAAAQAAAAIAAAABAAAAAgAAAAIAAAACAAAAAgAAAAAAAAABAAAAAAAAAAEAAAACAAAAAgAAAAIAAAABAAAAAQAAAAIAAAABAAAAAgAAAAIAAAACAAAAAAAAAAIAAAAAAAAAAQAAAAIAAAACAAAAAAAAAAIAAAACAAAAAgAAAAIAAAAAAAAAAAAAAAAAAAAAAAAAAAAAAAEAAAACAAAAAAAAAAAAAAABAAAAAQAAAAEAAAAAAAAAAAAAAAAAAAAAAAAAAgAAAAIAAAACAAAAAgAAAAIAAAACAAAAAgAAAAAAAAAAAAAAAAAAAAIAAAABAAAAAAAAAAAAAAAAAAAAAAAAAAAAAAAAAAAAAQAAAAIAAAAAAAAAAQAAAAAAAAACAAAAAAAAAAIAAAAAAAAAAQAAAAIAAAAAAAAAAAAAAAEAAAABAAAAAgAAAAAAAAAAAAAAAAAAAAAAAAACAAAAAgAAAAIAAAACAAAAAQAAAAAAAAABAAAAAAAAAAIAAAABAAAAAQAAAAIAAAACAAAAAQAAAAEAAAACAAAAAQAAAAIAAAAAAAAAAgAAAAEAAAACAAAAAAAAAAEAAAACAAAAAAAAAAIAAAACAAAAAAAAAAEAAAABAAAAAQAAAAEAAAACAAAAAAAAAAIAAAAAAAAAAAAAAAIAAAACAAAAAQAAAAIAAAACAAAAAQAAAAIAAAAAAAAAAQAAAAIAAAAAAAAAAgAAAAAAAAACAAAAAgAAAAEAAAAAAAAAAAAAAAEAAAABAAAAAAAAAAAAAAACAAAAAQAAAAIAAAAAAAAAAgAAAAAAAAAAAAAAAQAAAAEAAAAAAAAAAAAAAAEAAAACAAAAAgAAAAIAAAAAAAAAAgAAAAIAAAAAAAAAAQAAAAAAAAABAAAAAAAAAAAAAAAAAAAAAgAAAAAAAAACAAAAAgAAAAIAAAACAAAAAgAAAAAAAAACAAAAAAAAAAEAAAABAAAAAAAAAAAAAAACAAAAAAAAAAIAAAACAAAAAgAAAAIAAAABAAAAAQAAAAIAAAACAAAAAgAAAAIAAAACAAAAAAAAAAIAAAABAAAAAAAAAAIAAAAAAAAAAgAAAAIAAAAAAAAAAAAAAAIAAAACAAAAAgAAAAEAAAAAAAAAAgAAAAIAAAAAAAAAAAAAAAIAAAAAAAAAAAAAAAAAAAABAAAAAAAAAAAAAAACAAAAAAAAAAIAAAAAAAAAAQAAAAIAAAAAAAAAAgAAAAAAAAAAAAAAAQAAAAEAAAAAAAAAAAAAAAAAAAACAAAAAgAAAAIAAAAAAAAAAgAAAAIAAAACAAAAAgAAAAIAAAACAAAAAgAAAAIAAAACAAAAAAAAAAEAAAAAAAAAAQAAAAAAAAAAAAAAAAAAAAAAAAACAAAAAAAAAAAAAAACAAAAAgAAAAEAAAABAAAAAAAAAAEAAAAAAAAAAAAAAAIAAAACAAAAAAAAAAAAAAABAAAAAgAAAAAAAAACAAAAAAAAAAAAAAACAAAAAAAAAAEAAAAAAAAAAAAAAAIAAAABAAAAAgAAAAEAAAACAAAAAAAAAAEAAAABAAAAAgAAAAIAAAACAAAAAgAAAAIAAAACAAAAAgAAAAEAAAACAAAAAgAAAAIAAAABAAAAAAAAAAEAAAACAAAAAgAAAAIAAAAAAAAAAgAAAAIAAAACAAAAAgAAAAAAAAABAAAAAgAAAAEAAAABAAAAAgAAAAIAAAAAAAAAAAAAAAEAAAACAAAAAQAAAAEAAAACAAAAAAAAAAIAAAACAAAAAAAAAAIAAAABAAAAAQAAAAIAAAACAAAAAAAAAAIAAAAAAAAAAgAAAAIAAAAAAAAAAgAAAAAAAAABAAAAAgAAAAIAAAAAAAAAAgAAAAAAAAAAAAAAAgAAAAEAAAABAAAAAAAAAAAAAAAAAAAAAQAAAAIAAAAAAAAAAgAAAAEAAAACAAAAAQAAAAIAAAABAAAAAgAAAAAAAAACAAAAAQAAAAIAAAABAAAAAgAAAAAAAAACAAAAAgAAAAIAAAACAAAAAQAAAAIAAAACAAAAAgAAAAIAAAABAAAAAgAAAAAAAAABAAAAAQAAAAIAAAAAAAAAAgAAAAIAAAACAAAAAAAAAAEAAAAAAAAAAAAAAAIAAAACAAAAAAAAAAEAAAAAAAAAAgAAAAIAAAACAAAAAgAAAAAAAAACAAAAAgAAAAIAAAABAAAAAAAAAAIAAAABAAAAAgAAAAIAAAACAAAAAAAAAAIAAAABAAAAAAAAAAAAAAABAAAAAAAAAAIAAAAAAAAAAAAAAAEAAAAAAAAAAQAAAAIAAAABAAAAAQAAAAEAAAACAAAAAgAAAAIAAAABAAAAAAAAAAAAAAACAAAAAAAAAAAAAAACAAAAAQAAAAIAAAAAAAAAAAAAAAIAAAABAAAAAAAAAAIAAAACAAAAAgAAAAAAAAACAAAAAgAAAAEAAAAAAAAAAgAAAAAAAAACAAAAAAAAAAAAAAACAAAAAgAAAAAAAAACAAAAAgAAAAEAAAACAAAAAAAAAAAAAAAAAAAAAgAAAAIAAAAAAAAAAAAAAAAAAAACAAAAAQAAAAIAAAAAAAAAAAAAAAEAAAACAAAAAQAAAAAAAAAAAAAAAgAAAAEAAAACAAAAAgAAAAAAAAABAAAAAQAAAAEAAAABAAAAAAAAAAAAAAACAAAAAgAAAAAAAAABAAAAAgAAAAIAAAACAAAAAQAAAAIAAAACAAAAAgAAAAAAAAAAAAAAAgAAAAIAAAABAAAAAgAAAAEAAAACAAAAAgAAAAEAAAACAAAAAgAAAAAAAAACAAAAAAAAAAAAAAABAAAAAgAAAAAAAAAAAAAAAgAAAAAAAAAAAAAAAgAAAAAAAAAAAAAAAQAAAAEAAAACAAAAAAAAAAAAAAAAAAAAAgAAAAAAAAAAAAAAAQAAAAAAAAACAAAAAgAAAAAAAAAAAAAAAgAAAAIAAAAAAAAAAAAAAAIAAAAAAAAAAgAAAAIAAAABAAAAAgAAAAEAAAABAAAAAgAAAAAAAAACAAAAAQAAAAAAAAAAAAAAAQAAAAIAAAACAAAAAAAAAAAAAAACAAAAAQAAAAIAAAAAAAAAAgAAAAIAAAACAAAAAgAAAAAAAAAAAAAAAgAAAAIAAAACAAAAAAAAAAEAAAACAAAAAgAAAAEAAAAAAAAAAgAAAAIAAAAAAAAAAgAAAAAAAAACAAAAAAAAAAAAAAAAAAAAAgAAAAIAAAAAAAAAAAAAAAIAAAACAAAAAAAAAAAAAAABAAAAAAAAAAIAAAACAAAAAgAAAAIAAAABAAAAAAAAAAIAAAAAAAAAAgAAAAAAAAABAAAAAAAAAAAAAAACAAAAAgAAAAIAAAAAAAAAAgAAAAEAAAACAAAAAAAAAAAAAAAAAAAAAgAAAAIAAAAAAAAAAAAAAAIAAAABAAAAAAAAAAAAAAACAAAAAgAAAAIAAAACAAAAAgAAAAAAAAACAAAAAgAAAAAAAAABAAAAAAAAAAEAAAACAAAAAAAAAAAAAAACAAAAAAAAAAIAAAAAAAAAAAAAAAAAAAAAAAAAAAAAAAAAAAACAAAAAQAAAAEAAAABAAAAAAAAAAIAAAACAAAAAAAAAAIAAAACAAAAAAAAAAAAAAABAAAAAgAAAAIAAAACAAAAAAAAAAIAAAACAAAAAAAAAAAAAAACAAAAAAAAAAAAAAACAAAAAAAAAAAAAAACAAAAAgAAAAIAAAACAAAAAAAAAAIAAAABAAAAAQAAAAIAAAACAAAAAQAAAAEAAAABAAAAAgAAAAEAAAAAAAAAAAAAAAIAAAABAAAAAgAAAAAAAAAAAAAAAAAAAAIAAAACAAAAAQAAAAIAAAAAAAAAAAAAAAIAAAACAAAAAAAAAAIAAAACAAAAAgAAAAIAAAACAAAAAQAAAAIAAAACAAAAAgAAAAAAAAACAAAAAAAAAAIAAAABAAAAAgAAAAEAAAABAAAAAgAAAAEAAAABAAAAAAAAAAAAAAAAAAAAAAAAAAAAAAABAAAAAgAAAAAAAAACAAAAAAAAAAIAAAAAAAAAAgAAAAAAAAACAAAAAgAAAAAAAAAAAAAAAQAAAAAAAAACAAAAAAAAAAIAAAAAAAAAAgAAAAIAAAAAAAAAAgAAAAEAAAACAAAAAAAAAAAAAAAAAAAAAgAAAAIAAAACAAAAAgAAAAIAAAAAAAAAAQAAAAIAAAAAAAAAAAAAAAEAAAACAAAAAAAAAAAAAAACAAAAAAAAAAAAAAAAAAAAAgAAAAEAAAACAAAAAgAAAAIAAAACAAAAAQAAAAAAAAAAAAAAAgAAAAEAAAACAAAAAQAAAAAAAAACAAAAAgAAAAAAAAACAAAAAAAAAAIAAAACAAAAAgAAAAIAAAAAAAAAAAAAAAIAAAACAAAAAgAAAAAAAAACAAAAAAAAAAIAAAAAAAAAAQAAAAAAAAACAAAAAgAAAAIAAAABAAAAAgAAAAIAAAACAAAAAQAAAAIAAAACAAAAAgAAAAAAAAACAAAAAgAAAAEAAAAAAAAAAgAAAAEAAAACAAAAAQAAAAIAAAAAAAAAAAAAAAIAAAAAAAAAAgAAAAEAAAACAAAAAAAAAAAAAAACAAAAAAAAAAIAAAACAAAAAgAAAAAAAAABAAAAAQAAAAAAAAAAAAAAAQAAAAAAAAACAAAAAQAAAAIAAAACAAAAAAAAAAIAAAAAAAAAAgAAAAEAAAABAAAAAAAAAAAAAAACAAAAAAAAAAIAAAACAAAAAgAAAAEAAAACAAAAAQAAAAEAAAABAAAAAgAAAAEAAAABAAAAAgAAAAIAAAAAAAAAAgAAAAAAAAABAAAAAAAAAAEAAAACAAAAAgAAAAAAAAAAAAAAAAAAAAIAAAAAAAAAAAAAAAAAAAACAAAAAQAAAAAAAAACAAAAAQAAAAEAAAAAAAAAAQAAAAAAAAABAAAAAgAAAAIAAAABAAAAAQAAAAAAAAACAAAAAgAAAAEAAAACAAAAAQAAAAAAAAACAAAAAQAAAAEAAAACAAAAAQAAAAIAAAACAAAAAgAAAAIAAAACAAAAAgAAAAIAAAACAAAAAgAAAAIAAAACAAAAAgAAAAAAAAAAAAAAAAAAAAAAAAABAAAAAgAAAAEAAAABAAAAAgAAAAAAAAACAAAAAAAAAAIAAAAAAAAAAQAAAAIAAAACAAAAAgAAAAEAAAAAAAAAAgAAAAEAAAABAAAAAQAAAAIAAAACAAAAAAAAAAEAAAABAAAAAgAAAAEAAAABAAAAAgAAAAIAAAAAAAAAAQAAAAAAAAACAAAAAQAAAAAAAAACAAAAAgAAAAIAAAAAAAAAAQAAAAIAAAACAAAAAgAAAAAAAAAAAAAAAQAAAAIAAAAAAAAAAgAAAAIAAAAAAAAAAQAAAAAAAAAAAAAAAQAAAAEAAAAAAAAAAQAAAAAAAAACAAAAAQAAAAIAAAACAAAAAgAAAAEAAAAAAAAAAgAAAAIAAAAAAAAAAQAAAAIAAAAAAAAAAQAAAAIAAAAAAAAAAQAAAAIAAAAAAAAAAgAAAAAAAAACAAAAAAAAAAAAAAACAAAAAgAAAAAAAAAAAAAAAQAAAAIAAAABAAAAAgAAAAIAAAACAAAAAQAAAAAAAAACAAAAAQAAAAAAAAACAAAAAAAAAAIAAAAAAAAAAgAAAAEAAAAAAAAAAgAAAAAAAAACAAAAAgAAAAEAAAABAAAAAAAAAAIAAAACAAAAAQAAAAEAAAACAAAAAQAAAAAAAAABAAAAAQAAAAAAAAABAAAAAAAAAAAAAAACAAAAAAAAAAEAAAACAAAAAQAAAAIAAAAAAAAAAgAAAAAAAAACAAAAAQAAAAEAAAABAAAAAQAAAAIAAAABAAAAAQAAAAEAAAACAAAAAgAAAAIAAAAAAAAAAgAAAAAAAAAAAAAAAgAAAAAAAAAAAAAAAAAAAAAAAAABAAAAAAAAAAIAAAACAAAAAAAAAAAAAAAAAAAAAQAAAAAAAAABAAAAAgAAAAIAAAACAAAAAgAAAAEAAAAAAAAAAgAAAAIAAAABAAAAAgAAAAAAAAACAAAAAgAAAAAAAAAAAAAAAAAAAAAAAAACAAAAAgAAAAIAAAACAAAAAgAAAAIAAAABAAAAAgAAAAEAAAABAAAAAAAAAAIAAAACAAAAAAAAAAIAAAAAAAAAAQAAAAIAAAACAAAAAgAAAAAAAAAAAAAAAgAAAAEAAAACAAAAAQAAAAAAAAACAAAAAgAAAAAAAAABAAAAAAAAAAEAAAACAAAAAgAAAAIAAAAAAAAAAQAAAAEAAAACAAAAAAAAAAIAAAACAAAAAgAAAAIAAAACAAAAAgAAAAIAAAACAAAAAAAAAAAAAAABAAAAAgAAAAAAAAACAAAAAAAAAAIAAAACAAAAAgAAAAIAAAABAAAAAAAAAAIAAAABAAAAAgAAAAIAAAABAAAAAQAAAAEAAAABAAAAAgAAAAAAAAABAAAAAgAAAAIAAAACAAAAAgAAAAAAAAACAAAAAAAAAAEAAAACAAAAAgAAAAAAAAABAAAAAQAAAAAAAAABAAAAAQAAAAIAAAAAAAAAAgAAAAAAAAACAAAAAgAAAAEAAAAAAAAAAgAAAAEAAAABAAAAAQAAAAIAAAACAAAAAgAAAAIAAAAAAAAAAAAAAAIAAAACAAAAAgAAAAEAAAACAAAAAgAAAAIAAAACAAAAAAAAAAIAAAABAAAAAAAAAAEAAAABAAAAAAAAAAIAAAAAAAAAAAAAAAIAAAABAAAAAgAAAAIAAAABAAAAAQAAAAAAAAAAAAAAAgAAAAIAAAACAAAAAgAAAAIAAAABAAAAAgAAAAAAAAACAAAAAAAAAAIAAAACAAAAAgAAAAIAAAAAAAAAAAAAAAEAAAAAAAAAAgAAAAIAAAAAAAAAAQAAAAIAAAACAAAAAAAAAAIAAAACAAAAAgAAAAEAAAACAAAAAgAAAAIAAAAAAAAAAAAAAAAAAAAAAAAAAgAAAAIAAAACAAAAAgAAAAEAAAACAAAAAAAAAAEAAAACAAAAAgAAAAEAAAACAAAAAQAAAAAAAAABAAAAAQAAAAIAAAACAAAAAAAAAAIAAAABAAAAAQAAAAIAAAACAAAAAgAAAAAAAAACAAAAAAAAAAAAAAABAAAAAgAAAAEAAAAAAAAAAQAAAAIAAAACAAAAAAAAAAAAAAAAAAAAAgAAAAIAAAABAAAAAAAAAAEAAAABAAAAAgAAAAAAAAAAAAAAAgAAAAAAAAACAAAAAQAAAAAAAAAAAAAAAQAAAAEAAAABAAAAAgAAAAIAAAABAAAAAQAAAAIAAAACAAAAAgAAAAIAAAAAAAAAAgAAAAEAAAAAAAAAAAAAAAAAAAAAAAAAAgAAAAIAAAABAAAAAQAAAAIAAAACAAAAAQAAAAIAAAACAAAAAgAAAAEAAAAAAAAAAQAAAAAAAAABAAAAAAAAAAIAAAAAAAAAAgAAAAIAAAACAAAAAgAAAAIAAAACAAAAAQAAAAIAAAABAAAAAgAAAAIAAAACAAAAAAAAAAAAAAAAAAAAAQAAAAEAAAACAAAAAgAAAAAAAAAAAAAAAAAAAAIAAAACAAAAAgAAAAAAAAABAAAAAAAAAAIAAAAAAAAAAgAAAAIAAAACAAAAAAAAAAIAAAAAAAAAAAAAAAEAAAABAAAAAgAAAAAAAAAAAAAAAQAAAAAAAAAAAAAAAAAAAAEAAAABAAAAAAAAAAIAAAABAAAAAgAAAAIAAAACAAAAAgAAAAAAAAACAAAAAgAAAAAAAAAAAAAAAQAAAAAAAAACAAAAAgAAAAEAAAABAAAAAAAAAAAAAAAAAAAAAgAAAAAAAAACAAAAAgAAAAAAAAAAAAAAAAAAAAIAAAACAAAAAAAAAAEAAAACAAAAAAAAAAEAAAABAAAAAAAAAAIAAAABAAAAAgAAAAAAAAACAAAAAAAAAAAAAAACAAAAAgAAAAIAAAACAAAAAQAAAAAAAAABAAAAAgAAAAEAAAABAAAAAQAAAAAAAAACAAAAAAAAAAIAAAAAAAAAAgAAAAAAAAAAAAAAAgAAAAIAAAABAAAAAAAAAAIAAAACAAAAAgAAAAAAAAACAAAAAgAAAAEAAAACAAAAAAAAAAAAAAAAAAAAAAAAAAIAAAAAAAAAAAAAAAEAAAABAAAAAAAAAAIAAAACAAAAAgAAAAAAAAAAAAAAAgAAAAAAAAACAAAAAQAAAAIAAAABAAAAAgAAAAAAAAAAAAAAAgAAAAAAAAAAAAAAAgAAAAAAAAACAAAAAgAAAAIAAAACAAAAAQAAAAEAAAACAAAAAAAAAAAAAAAAAAAAAgAAAAAAAAABAAAAAAAAAAIAAAAAAAAAAAAAAAEAAAACAAAAAAAAAAAAAAABAAAAAgAAAAIAAAABAAAAAQAAAAIAAAAAAAAAAgAAAAIAAAAAAAAAAgAAAAIAAAAAAAAAAAAAAAAAAAAAAAAAAAAAAAAAAAAAAAAAAgAAAAAAAAABAAAAAgAAAAIAAAAAAAAAAAAAAAIAAAACAAAAAQAAAAAAAAACAAAAAQAAAAAAAAACAAAAAAAAAAIAAAACAAAAAgAAAAEAAAACAAAAAQAAAAIAAAAAAAAAAgAAAAIAAAAAAAAAAQAAAAEAAAAAAAAAAgAAAAIAAAABAAAAAQAAAAIAAAACAAAAAgAAAAEAAAACAAAAAgAAAAAAAAAAAAAAAAAAAAAAAAABAAAAAQAAAAEAAAACAAAAAAAAAAAAAAAAAAAAAQAAAAIAAAACAAAAAAAAAAIAAAACAAAAAAAAAAEAAAACAAAAAQAAAAIAAAAAAAAAAAAAAAIAAAACAAAAAAAAAAEAAAACAAAAAQAAAAIAAAACAAAAAQAAAAIAAAAAAAAAAgAAAAIAAAAAAAAAAgAAAAAAAAAAAAAAAgAAAAIAAAAAAAAAAAAAAAAAAAACAAAAAgAAAAAAAAABAAAAAgAAAAAAAAACAAAAAAAAAAEAAAACAAAAAgAAAAIAAAACAAAAAgAAAAEAAAABAAAAAAAAAAAAAAACAAAAAAAAAAAAAAACAAAAAAAAAAAAAAAAAAAAAQAAAAIAAAACAAAAAgAAAAEAAAACAAAAAAAAAAAAAAACAAAAAAAAAAAAAAABAAAAAQAAAAAAAAABAAAAAgAAAAEAAAACAAAAAgAAAAIAAAAAAAAAAQAAAAAAAAACAAAAAQAAAAIAAAAAAAAAAgAAAAEAAAABAAAAAAAAAAAAAAACAAAAAAAAAAIAAAAAAAAAAAAAAAAAAAAAAAAAAgAAAAAAAAACAAAAAAAAAAAAAAAAAAAAAAAAAAIAAAACAAAAAAAAAAEAAAAAAAAAAgAAAAAAAAAAAAAAAQAAAAIAAAACAAAAAgAAAAAAAAAAAAAAAgAAAAAAAAACAAAAAQAAAAAAAAACAAAAAgAAAAEAAAACAAAAAAAAAAEAAAABAAAAAgAAAAEAAAACAAAAAAAAAAAAAAABAAAAAgAAAAAAAAACAAAAAgAAAAAAAAABAAAAAAAAAAIAAAAAAAAAAAAAAAAAAAABAAAAAQAAAAAAAAACAAAAAAAAAAIAAAACAAAAAgAAAAIAAAACAAAAAgAAAAAAAAAAAAAAAgAAAAAAAAAAAAAAAQAAAAIAAAACAAAAAgAAAAEAAAACAAAAAQAAAAAAAAACAAAAAQAAAAIAAAAAAAAAAAAAAAAAAAACAAAAAgAAAAIAAAACAAAAAgAAAAAAAAACAAAAAgAAAAAAAAACAAAAAQAAAAEAAAACAAAAAQAAAAIAAAACAAAAAgAAAAAAAAAAAAAAAgAAAAEAAAACAAAAAAAAAAIAAAAAAAAAAgAAAAAAAAACAAAAAAAAAAAAAAACAAAAAAAAAAAAAAACAAAAAgAAAAAAAAACAAAAAgAAAAIAAAACAAAAAAAAAAIAAAABAAAAAgAAAAIAAAACAAAAAQAAAAAAAAACAAAAAQAAAAIAAAACAAAAAgAAAAEAAAAAAAAAAAAAAAAAAAACAAAAAAAAAAIAAAACAAAAAgAAAAEAAAACAAAAAAAAAAAAAAACAAAAAgAAAAIAAAACAAAAAgAAAAAAAAAAAAAAAgAAAAAAAAACAAAAAQAAAAEAAAACAAAAAQAAAAAAAAABAAAAAgAAAAIAAAACAAAAAQAAAAAAAAAAAAAAAgAAAAEAAAABAAAAAgAAAAIAAAAAAAAAAAAAAAIAAAACAAAAAQAAAAAAAAAAAAAAAAAAAAAAAAAAAAAAAAAAAAEAAAABAAAAAQAAAAEAAAAAAAAAAQAAAAEAAAACAAAAAgAAAAIAAAAAAAAAAQAAAAAAAAAAAAAAAgAAAAAAAAACAAAAAgAAAAAAAAAAAAAAAgAAAAIAAAAAAAAAAAAAAAIAAAACAAAAAQAAAAIAAAAAAAAAAgAAAAEAAAABAAAAAgAAAAAAAAAAAAAAAgAAAAEAAAACAAAAAQAAAAIAAAACAAAAAAAAAAIAAAACAAAAAQAAAAIAAAAAAAAAAgAAAAIAAAACAAAAAgAAAAAAAAABAAAAAgAAAAAAAAABAAAAAAAAAAIAAAACAAAAAgAAAAIAAAAAAAAAAQAAAAEAAAAAAAAAAQAAAAEAAAABAAAAAgAAAAEAAAACAAAAAgAAAAEAAAABAAAAAQAAAAIAAAAAAAAAAgAAAAAAAAACAAAAAgAAAAAAAAACAAAAAAAAAAIAAAAAAAAAAgAAAAAAAAABAAAAAgAAAAEAAAACAAAAAAAAAAIAAAABAAAAAgAAAAAAAAACAAAAAAAAAAIAAAACAAAAAgAAAAAAAAACAAAAAQAAAAAAAAAAAAAAAgAAAAAAAAACAAAAAAAAAAAAAAACAAAAAAAAAAAAAAABAAAAAAAAAAAAAAACAAAAAgAAAAAAAAACAAAAAQAAAAEAAAACAAAAAAAAAAAAAAAAAAAAAgAAAAAAAAACAAAAAgAAAAIAAAAAAAAAAgAAAAEAAAAAAAAAAAAAAAAAAAABAAAAAAAAAAEAAAACAAAAAgAAAAAAAAAAAAAAAQAAAAEAAAACAAAAAgAAAAIAAAAAAAAAAQAAAAAAAAABAAAAAgAAAAIAAAACAAAAAAAAAAEAAAAAAAAAAAAAAAIAAAACAAAAAgAAAAAAAAACAAAAAQAAAAIAAAAAAAAAAgAAAAIAAAAAAAAAAQAAAAAAAAACAAAAAQAAAAIAAAAAAAAAAgAAAAEAAAABAAAAAgAAAAAAAAABAAAAAgAAAAEAAAACAAAAAgAAAAEAAAAAAAAAAAAAAAIAAAABAAAAAgAAAAIAAAACAAAAAgAAAAIAAAABAAAAAAAAAAIAAAAAAAAAAQAAAAEAAAABAAAAAgAAAAEAAAAAAAAAAQAAAAAAAAACAAAAAgAAAAIAAAAAAAAAAAAAAAAAAAACAAAAAAAAAAIAAAAAAAAAAQAAAAEAAAAAAAAAAgAAAAIAAAACAAAAAgAAAAAAAAAAAAAAAAAAAAIAAAABAAAAAgAAAAAAAAAAAAAAAgAAAAIAAAACAAAAAAAAAAIAAAABAAAAAAAAAAEAAAABAAAAAQAAAAIAAAABAAAAAAAAAAIAAAAAAAAAAgAAAAIAAAACAAAAAgAAAAEAAAACAAAAAQAAAAIAAAACAAAAAgAAAAIAAAACAAAAAgAAAAAAAAAAAAAAAAAAAAAAAAAAAAAAAQAAAAAAAAABAAAAAAAAAAIAAAAAAAAAAAAAAAIAAAACAAAAAAAAAAIAAAACAAAAAgAAAAEAAAACAAAAAAAAAAIAAAAAAAAAAAAAAAAAAAACAAAAAQAAAAAAAAACAAAAAgAAAAIAAAABAAAAAgAAAAAAAAAAAAAAAgAAAAIAAAACAAAAAQAAAAIAAAACAAAAAgAAAAIAAAAAAAAAAgAAAAIAAAAAAAAAAgAAAAAAAAAAAAAAAgAAAAAAAAAAAAAAAAAAAAAAAAACAAAAAgAAAAEAAAACAAAAAgAAAAIAAAAAAAAAAQAAAAIAAAAAAAAAAAAAAAAAAAABAAAAAAAAAAAAAAAAAAAAAQAAAAIAAAACAAAAAAAAAAIAAAABAAAAAgAAAAIAAAAAAAAAAQAAAAIAAAAAAAAAAgAAAAIAAAAAAAAAAAAAAAIAAAACAAAAAAAAAAIAAAAAAAAAAAAAAAEAAAACAAAAAQAAAAAAAAACAAAAAAAAAAAAAAACAAAAAgAAAAEAAAAAAAAAAgAAAAEAAAACAAAAAAAAAAIAAAABAAAAAgAAAAAAAAACAAAAAAAAAAAAAAAAAAAAAAAAAAIAAAACAAAAAgAAAAEAAAACAAAAAgAAAAAAAAAAAAAAAAAAAAAAAAAAAAAAAgAAAAAAAAACAAAAAgAAAAIAAAAAAAAAAgAAAAIAAAACAAAAAAAAAAAAAAAAAAAAAAAAAAIAAAACAAAAAAAAAAAAAAABAAAAAAAAAAAAAAACAAAAAgAAAAIAAAABAAAAAgAAAAAAAAACAAAAAAAAAAEAAAAAAAAAAAAAAAIAAAACAAAAAgAAAAIAAAAAAAAAAAAAAAIAAAACAAAAAgAAAAEAAAACAAAAAQAAAAEAAAACAAAAAAAAAAAAAAAAAAAAAgAAAAIAAAACAAAAAAAAAAIAAAABAAAAAAAAAAIAAAACAAAAAAAAAAIAAAACAAAAAQAAAAAAAAAAAAAAAgAAAAIAAAAAAAAA",
           "dtype": "i4"
          },
          "coloraxis": "coloraxis",
          "symbol": "circle"
         },
         "mode": "markers",
         "name": "",
         "scene": "scene",
         "showlegend": false,
         "type": "scatter3d",
         "x": {
          "bdata": "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",
          "dtype": "f8"
         },
         "y": {
          "bdata": "ASICLQIIFgocPg0QOjEZRTRHChUBDAE6MR4vAUgRRwIbAQFIBS4iCwpGET8NMQICNEUrDxkIPBI/QiJILzxIEgkDLx8yCgE0QD4DOC4IHi0BCwcqMQkjMC4dHgFCQUgMRwU0GQEBJkJEBUggK0g3NCslQAMkCikbOAYDBwQhG0gBRw0ZQwECKxdAOQFICD1AR0EDAR4PCAdGPgYOFhYQCg0UAjULRQRIOhArAg41ICIPBw89AQEIIQ0BFAMNKCsGRUg7FBg7SAEbDkcNLCFIARNAAgE9HRc5SEJBCARHAQQMGB8BHi82MgFIHQIKEgsQSEgpQQ0EKQ8BKjMCASAKQz0yAh0DDTkfLT0yEztHEDkBFAEFNBUOBQYKAUQSFhQBCAoYIxcGDAFHIygBFwQERCY0IB0mMAEWKwUFM0cmGCM2SAEJRTQLAhwRIwguBwJEK0QkPyBHQj8pAQJGF0AlEQcEFQoQQBsqBSk6LxIFFwFHSCECGDglKwEZPREpAUgBMAs3KiwBGxsCEypCISIhFyALRUQUSDwgAQEDLh0zMBBGKBYBBQcdLAo3NAoSRD1IAgwpGiRIIwEQMTYSJDwBNAhIQBY8HD0YHB4CAQYYBAdIRkBILA0RAQkYARgjBwUPCzAUSAhID0gBPwICPQEWHEYFDCJHRjRFFAsCBgEUPQU4HigcBRsMQx03FyI0SDojOBhGAkQBDD8hRTxICwEKDSInQTIPSEg3FyA4ASYLATgDBzsHRw9HIws8Lws4HD0fCSMCDAEEAQMBNAVIR0guPx4BDBAEM0EQAkIuIEgmM0hBCQlCLDIPCEI5Bwo+KBQHGRdCSDErLkgKKEEfRDgKRCsBMQ8UATICGAMBIxEICkQtAiUECgFBOQMCMQRGNTUBFjRBMAIDLQE9AygBATMCNDMBHy8DFgFIAy9IQiMdAgQZQRsdHQEUOg5ILkcgGkQCPQQDIQkWBR5BLQUZSBsgHkYqSC8CCj0FSEgDMD8bRgcCFEIDD0gBFgNIQQsWDikRCw8BBSFIAwI7AkcFGwE/LkgiGEg8RAgiBgIfFAE+RgonLgZIEkcoATpGKiIFGQI3FUY9Ky8FPhAHDjwiMiZGJQQ8PgEkLDdIDA0BD0EMSEhINAIFRD5IAUJIGkAUAxYEPgU7A0g5QjwtAw8zPCEKGgZDMQEHGyU/HzIgAT8eRzUMMgIJEThDCQQTCEcKD0gMSAEXSBoVPAwQPxYgAw1EHhAhSAQMBAZBDxgNGEg2AwQgIyMCCBYPFgFHBBkgBxEIOAEIBwNHAgExOiw7RwELPiMUKCcBSCEMARsiODoWCg0jIgRIAgcbBCUVNRICIBcDRwkBEgxHQAQXJxwFLSU8CC8aAzIbCD5HQkQNOCYOEA4gCCs0Ax0BDBAoBSgkBQoCFxpIIgoOFy8YMRQCAhYHATs6KTsDIC4CNA0LIBEQMx1GRykBBxlDBQ8UAzYqCT9FRSg8BEclICcmNDBGFDITGQwnBxcbLxoOCwIaSD9HCw4NBgsSASAdAwINKQEHNC1GNT48AxcBQwxHGQUaAUZIPCABDg0GLg8rJxU5NRIBOkcjAyYjBy8OFEIPKhElDDU8EgEDCQE4EQsHRRMDNj4YPhEJQAIBEEgeMT0vFCJGNj0DDRADGR4VAQ8XLRgLATgBAQc3AkgtLy4CAgxERTgEQDs+PzUFMT43R0gkGUgkAUg7BwEeQD9ICD5DBkYUBRgLSEItRQ8cRiQQEiIqMC8nCwcDCAEgPApHBAErOxdIFgFFMgECDx8BQgMIQBw5DhMKM0MLSEISCQkwCgkNBARIMzsKPTYhGwEXAS0nBUg6Rj0CLgEWMEBIDCJIHSEBPilABBgOAwQSCCMBQghHKwIdD0EjQDoSQz88CUYPMAxHLAEtFysjCQxBAhsoBQg6NAMpFAEEFwYIEjQfHSQQKgE8BRYkBAkBDBc+JQgfDRgtRQI9KSwnSA0zRxYCOAEXQgETCwg0AzMPQCUNMS0SAUQ2FxFHQw4BPykROAUCAyUdCD8HA0gTOwIjDg5FB0VICAQ/SC4FHj88PxkBBhYfJxo1AQwQAicBBwQKN0gKCw8XAQMvD0JEEQcMFRU4BkEqRDAyBz8RKgQ+AgIwG0YBLh4PRUFIDREzM0hDIkMxNRsXRQIjLjY4CRQLHkQmETABPwMwQkQRB0gdJSIqOws8GwEBEToBAzUjMkQvQQUzLgkIDi0IAUJIKRcdBAZDBzhISBcjGxoMKAdGPCdIATYDP0cqL0IVCwE3RQMEHgVHHTRELghIEQMCCTMGAxEeHy1AAQE9AQlIAQdCASgQAkMpOEgDNjQyDhtIPgwsNkQUMjojAj86G0c/RykNAkQBQUgcSAISPBoBBEQmKjk2DCwqSEcTFx4jCgEWByQiSCQBFyBHFxEBDEgBSDw9BiAfE0ggQS0qCCAWOQEBARgBNgRBOC1HO0UTNyYKLwIBAQEuJkETNEcBNAYaMEADAUgBMylIK0gvSAMBAhodIxsYQxAXDgEBBBAuRCYeBREEDEgDOCkoB0UHBUgsQQMYLEgYARZGGSUWOzEvHwEDNQEUAzMzDQEBPwMuAQhHN0YCQ0EOFAEBMUguGAUhKhcIQhgYRTU8BxQXSAsVAR85LQo6DhsODEUZOiMQLREBFgFDQwIXCQU2ORgxBQIERgU1Lx8NHAomAUM0PhAFDEhHGA9DAgUPASkrAQEaFkcHHBAHRQEDFUVHRTAvAi0zFkglRwdCMx4iQEEvATFDJw4rOA4BEEZIFxUBASARBCQyMDJIChIBAQkCKEUlEgsIAzchLiIDHiEtKEcBSBYuNwEMHwVDASgpATMqFwEBOA8MNgchEBUeAws+EgYuFUQBGRgeAjM5D0gCHB1GDTsNBz4VAgEEEx5DSDUFRzI4AgIYLkcdRUcBODgBHBNCETQTJAdIQyI5BwEIRTIKDA5GQEJHFEhHJhwRIRc6RgQtCiQ2FykFGwFDSDgsQiJFASgeCw8LQEhIAQ88OAgDMQIGRgw0SCgBAygBHhcBLEEHSAgQQgEDNQhFBUgNBDZIDAEBNkUwMAhHAkMiAwlHOUgwEitIIwQxRws/QTEdDwRIGiM5HBkvORAFEThIFTBEHgMOBEcIPUgFMQgDCUMuQzchPgExAQ4SAQFIQEUBR0ICRwsvIyA8Cx0VMAMrBQFHCAgUIUcfJgECDAkLBkcqCAUCLRwrPCoHGSgbChsLBEQBEjkaEQEmOx4CMgkDDh8HCBEgAgdIHxsSBw4LSBwPBEcFLzkyCDBGAQgBATwxBB1DNUMGLzVFAwQ4Oz0CLgwOHBgfRCcqDQYjJhIEGykySEYsAiJIR0BIAR0XNBlAEAEYAiIkNS9ISAEJCC0HRylDRUYZSCJBRkgjDQw+GTQIAjgMLwISCC0DJkguR0IZEg1BPA9IHipHAScjNQEfMB4KDDk6JSwbCAMZOQw+QUcVRwdIAUhASB0NHwEHPScKDgFDSAYBGSESRxwCETg8IQECPwc3QQE/RiQ0FhYFLyESATgCI0APGAFGAQQnHQ49DUICOz4hQkgBEzM/GxYEKh0EHgRHLgQHRUgTHAVICAcWSAg0REcCIiM9AQE1SAIDDSkYHAgBNikTSD44DwogFT4CGwUZAjE/BAELNDxAKz0BBUJDKgEfBwQiAxMfAQMuAUUFARoKGUAeDUAuDA8RDUMYBjUQCg0JGQcmKwQZG0hHGDI5DwQcCTcDCjcUPiArCTw6BwIlQSdCRD4DSCkdBDUBKSc/Dw0BAQg8DChCKkIxASkpFwMENAQLAhoYDDxAQjwRKgEvCkZDAQcBBEIMGBoGOQ4qGUAWEz0WRgwfC0RIQzwBATovAQEWMCUNKwZHAUgGDBkVBhQSKyMBIDQgSDNECDFICRw2CzJFAUQoHyE3RAxHKEA1DDVILigMCTMxKTgEFBoUBwczBAEbFgwDIhgzDjsDQQU7SD4cAxMBGDlIQzRHGiM3IUgBCiUMAT4BEkUCEwwJGxsBGA4gCwEmCTYdLDsDEkMWIQUCSAlDEAgFFwEyEUQBGUMgQ0hHAS4CATA9IAIDBUclQUMxMhkRQBkXGCUVAQoGMwoGLz00I0cGLQIEAgQzPAkDEQguRAEEARwnC0cCHhE3OgUBCRoySCs4AUhIJAUNLEYsIEUQRBBEBBodBUYYSAFGJCYRKQECDgIBDQYEBQ8vCBEPGhcEHRkJEgNFDhMnHxgOQDI0HBUZEToRM0g0GwNALQNHAToiCA9CDDoDKwkDFihENjIBSChIBgUwAUARKCkzKQECRBhGAwIDBw0HDDUMPw8kBBg9EEEaEDYBBRMKFwNICgoLJREkEUI9FgEGH0QiNAodSC8YQQQMASEiDgQNQRc3MTxFKEMjEw0pBBgFBQFIGCoERCEBHwRFJgMwDxkBMAEBJUIaPwoCEkAJHAEEJkIBEjMBDCkMNwcMRAUxKBAKSAIXRwsBEAEMNkQEARsVDUABORUTHzQuCzULOQICRwFESAIBKUgGBAw6B0EBOAQ6Pho+OkQ9KhI4BAQjQB9DBEYDNQIdL0QMCDZFGkhGAQocARUzNTUYRj0LAhkpEkhHIh0oJC46JwQ0RkEBRh0BQwEaHjA3ByUfBEgFAQ8IIzgqQQJBEhcERgQTEiYCLzQJGggsAwIJARkCKwE6OyxCRAkTBEYBCDUzCzwRA0YBKxA5JUgLMgUBEAIREA8KLkABGUcISDEdSB8yR0ZHPSABRD4HFAYhHBsHGgUePwE1DhURECMgHAE7SCQoKAk/AygIIgUJCR8yAgEICQIDGQEtMzcmAiYiRg0nPQwpFTdFGkUSL0ghAkglPkcXEAkRBAEYAUhICwkCPB0xHjUnCScIM0dHRgEmHCAxJQpDBzMJCQRHMhgWLCEBNioBAR4BEAEJLgFHKzINEykBGCgDJUMgBiA7HhQbFAlERRpFCwEKNywuRQsLHTkcKgIXEj4BEANDPjkCFxlIAggFIxgCSCkEGgcBBDACDDw3AQEEASoBBwNIDwQLBQFINyg5AQEBNCkrLwNCNx0MQiMKGzo2CQIGGgkIDA8rKh9CEgE9CgESGAMyAQIRRUgDMjU6LkgBBkgENAJBKwQZMww5GEAEGg9AJBsBIwQICgI6My4BLjI1PQUvNhMaRhEeARMaFTJEAwkzCSkWFUcBGkcEDBIDSAsBDUgqEQdEOCZIMDQjQwE1IgMBEzwLLxI8SCc7AgEUBkcYQwEwJQsDEjJDGQIJCkYJBAIBEwcBAQkDCQU4EjFGSAYRHQY/EDsDCAdERDRIIEgBKhktKyUUBD8DQhwIRwFIEEILMwgOBEZGNhwYRSoCJy1IJkgBSDczPwEXAQI0JAEcBw5IAQoqBwRIFD84BUhEQwg0Ejs8BzsuBTtGDixAOi46SB4LIjYDSCgCNg4BCgEBOEQORDcQCQ46NUYOFgodATFEAR5ICgcJARQBHQEDFEABBjIGB0gIQxhIIQJGFjskMzUUPygjGhs1IhMrBjg5IgoBDTg3JC8MARg/I0MZFQ0jRx1HBzlBGwZIAQsnOxoCSEFIBiAyPQ9ICQEMJT0SFUQMAj4dAQUBPiQcRQs/FwpHLUYWNDdBSAoHBRhIFUUsPRgBBgRISA4HMDcBLQNHCANFAUgLRwEhEDgBBTk4CBYBKC4/REU4Cj8YExYdDUYxKwMqOQJILkI+SCMRSBw4Hy0BAgYwGUAyNAQgLQlCAzYBQB8ODEMjLQodGEIzLTEdKCUZFkgHIRcYAUUDOEFHDgIgKAEBBw8RE0c2HwsSSEcFJgUCNAhERSoyAQEhB0ABOwYDDw0XHx0xOD8/GCQJAxUNARlHQi0WQ0QxBD8CFTcBER4WCQEVE0UBSEZCBy4nIBgGJQhIRxA5QhEVQhEBOggbIh4hAQ4QMRNGIBIlBBAREzwzHCsqAwEDPwNEHjwPLUYKBAFEFiYBEh0QAQwfBDAPMgcpRBo5AwETAzsBKgdDAUI9BCpANgE2EgMBSDwLDD0nNxElSEgIFgEmEUZIHA9ICwg5AS4eChcgDScsCUMJD0cBHgERA0MBASApAQEMPhYRSDgJSBQTAjUbBgkIRwoBR0QiGhYHFDxISAQQPgofRzpGR0UBSBohCjkKJwsVRBIGEjQ4LUMDQT8LATcZSEhBNgdIFQIEA0gGNEUICD88DA0WBQFIAigsRwIaAQFBAw0hAQQCSCUPFx4qIBYqCEECRhYEAkMZFAIzLhkNGRorEwoCSBIJGxhFLkgWRgIfOBA0DSM7SEIxAhU2GAEGATE4OAYgMjpBQEImFCRAATwBMgFIPC5FHxNHDCcsOEgFCxgPSDhAIgIjFgUJCxcERCEfATgBQkgiOgIlRwFHIwYDRSw1GAUCPhMJNQVHARJIBDsBHwNBMQI1N0gkCgFIHCY9NEMiNgEPBAkuFiY3AUA1OjhIAUgWCBAnDDYSIClDQRkBQwcrGAlFJRQHJQUpNgNFNRJAHxQ5Pw0wAjlHBxAiJRAwOkgHJjAKHh8uMhxCCClIByYsLzUEFAI5LBgPAwQlARgFITpIRxwzHkgkDkgWAg8zRkcnPTQBQD4eBD8BDxsESC0tJBEBEAMERwoUBBoEBQQdAh0BAQgNOwEyEhEvGgYTA0QCBxJHDQNIQhgBOBYOPSgqSAxHGgcGOjNIEgcvAj4QBhNFC0AnDxkGQj0rDBdHIgUpSA4pF0cBSAYXCkgHBgkMATAUEAIKAhQUExMWIwEnNgFCOBIQRDVICR4kEjcnFQIhLB5HBCMBFxYxKiEHQw9DNRUoFictAjkIBwYHMUE3RyMDCwERSBwSKDQvF0IILwdHMi4BQioFBx0bDxkLOUMvDQgsRxgPAQI3RzIBBUIxA0ILHEE+AgI3KREeERBICQEXCBMHAT05CQ8BDDYEBxQaJDUDREgMIkQyASkeAR0XPEgWSEJILzNGCTsDJiUlGA5INQhIEQIIMAoBHUEIPS1IDAcJKzoQAggoCSkaIURBNxQTLUYCGwxIDAVHI0YfNCVFHiE2OzdFQiUJRQooDQZFQgsuBjhGIUgDEwVHCAEBPUdELiE1Mjk2PBwBHQorDSsTAUU9KwYBOEYBMQYgSCVFGjoYBQ8eNxkKLC8NMUABFCUeJgElNEcaQkgZRTUMGhUBMBo8EgoFBEFGEj5CQQMiEDYyRwoBEgQ6OAIgOCQENQoEATMMBj8BMAUjBgIyIR8JNi4iRz8zGkABPQ9AEjkOEkhGJkQNQR4zHwlICiUCNyEuARQJIBNGPRotPgEDKUMBRyU8AQYNCwcKIj5AARkaCjUHIUcdGBQBNgVINAkBASE3RQE2IS0LBhVBBggLKzEBDzwRECMsDAEcRgUSRglDARIERx4BNzsBBy02M0gsAkJEHxUVNwlHARYBPUMOOxUEA0YDFRQWAT9GDQVIDT0BOAQjEkgxLAMlPUYBKUYBMypGMEQwGgsBGy4BLhkEDR8XAkEWNwkHIwYBEQoPKA0dAzotSEQBJgILFEgDFyg+FgsHDQEnAzoGARYOQAEGAScUAQFAAS4cIScqAQdGQQESGD8sBAElCiIjBCcrET0xBEADASgBCAEiASc6LQYrKQVIBAlIIUgWRhUPHQ9HSBMBAQILDEYUFzEEIAJFBhggGxs6ARIvRg0kQwoTR0gwARIBQ0UTSCYoPQogFTsNL0UCFg81HBYBEDAeAzlEF0EsRyUMRSMFOkhIASc1GwEBEi5IJAQZKD8PDkgnLxMFDREiKgVHEwI5SAYRPQEwEAkDAUFGPEUjFkIBASJIHx4JFBNBHgYCNQc9Rg0jAgMDPkg/FCMVPg83CxE9RwIjERUvAwMsASwFGAESCkEBNQMhAyIODS4XLxExO0ULCgwtJ0dHIUMlMQk0RgEOAQE0BgcvGhlFSAQ7QxobSAY+FAYzPT5IDQUDGg0mCCISOCQJAQw5KiFGRAElBAEUSB8SCyE+ARAWMSQqBAwfBUIPQAoHHTkuNREmDxYOOQsBDAMkEEECKkg+BjAjNAEGR0M8FycPNRglBTI2A0QFISkiDRQzAykNIwwEKwxEGQdCNT9GGwEFJQMMJgkNHS89ECkrJAY6EwsnCBo1RgE7AgcMOz1IDUABCkE+NxkBATtAJAM9GgEBRAJIRzkEAUgVRx1FQBAENAIBEgITKEIVCEgwRUgOBggRQTkNEzgONDovQwIGRy4FQwMDNCoyF0MZJ0UBIAkQPEgFGgMCAiQHPBMtBB8vAQEBOwojBCArBDYLQj1ILCkyLwgSSAEqEg1EBEURGSs7BRVFDSo0Lj0dGQUPEywGOj5GAQoaQgczSEECRkgBAQUDOhYhATZIAQNISDY7Njw8A0UBMjg8RQEBAzwNPi0ZLAIhARYjHRs2Ajk+DwJGFRcGBAMXGggaAkNHOycVATAfQC40Q0MFRwkaRyACRzw3NgIGMD8BDDYeHgQoCRE+HEYuFy9EPEMOOTcBARcNLyYmAgEPGiMDMioKPUQKQUg3AQcCCRsHQEYCQy0YBCxIAUIBDQpBASYXCgRIIwE6RiY8GggpJDZHN0gDNkg0PCcPRSs/AkggKDpDMx9FIBU0SEg0KSkGQxARIzoBNEYTASMgEUMJHwQ6PDoBG0IPLyk7MhEGMywxAjsyOxIKDiMIEjwBBhM1SDwBDQUBDSVABT0BARoBGBEaASg0AQEVQyxGAzgNOioBLj8LD0gdAQYBPwISKw8KNzEGRgI/GRIcNSMBRgIaIhMPPioJGEQfARU/Aj0BEgYhEDgXCQ4PBT1GDwgIBCJELQkWAkYKSDE2RxYyKy1AF0QBAho3DkdABzkNA0goDgJCJgEWAQUdAQNHCSswGgkBLgIBQAwGOwdIEBkiAQoYCkU5MhwQGQM9AjNHFAYGHSQcBz8wMRtIAUgvASQrGwkmIzsbAgckKQ0TPDADRSsLLUgCDEMlJykZCEcFHig2SBwSAjsWAUgOMjAxHEQNCwM5A0hGMUMuQCUCDUhEDxgYGwxHQz8BBCgMNApENgQ0AUYrNAw4KhYzGzMEASNHAUUOOUgwBB8mJQE5PgNIHQ0DCxUTPQsjGQFDEzhIKzcCGw1GDhMUKwVGKAYnBA8BLUA5SAFIAzc7EiAEQhsEPAgIIwc1Eg9DBgYNCwEFDQkdAQESAh5CJiw2Aio6OhlHJQ4EMAMIAUMNLTE0P0QfQD4BBhVIIEciAwwIIwMDNQQwBgM2AT4WATMeOCNAHhkpCQFGOQlFK0gsSCE2GzYDNQEPOAUwGQM6CgFHQQUcQyNIPUQBA0YwRC8gBTEwDQ8MQwkNJioYGwkxPTIZFgEEEjg1Mxg+GEYBEAhIFx8lHiMXFCQIRzIrOSkbDQNDA0AaJhcoSAMXAQQ+KCkiATMBJwwMSD8sEgkNRAYCNwEmQxMMSBhICwRC",
          "dtype": "i1"
         },
         "z": {
          "bdata": "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",
          "dtype": "f8"
         }
        }
       ],
       "layout": {
        "coloraxis": {
         "colorbar": {
          "title": {
           "text": "Segment"
          }
         },
         "colorscale": [
          [
           0,
           "#0d0887"
          ],
          [
           0.1111111111111111,
           "#46039f"
          ],
          [
           0.2222222222222222,
           "#7201a8"
          ],
          [
           0.3333333333333333,
           "#9c179e"
          ],
          [
           0.4444444444444444,
           "#bd3786"
          ],
          [
           0.5555555555555556,
           "#d8576b"
          ],
          [
           0.6666666666666666,
           "#ed7953"
          ],
          [
           0.7777777777777778,
           "#fb9f3a"
          ],
          [
           0.8888888888888888,
           "#fdca26"
          ],
          [
           1,
           "#f0f921"
          ]
         ]
        },
        "legend": {
         "tracegroupgap": 0
        },
        "scene": {
         "domain": {
          "x": [
           0,
           1
          ],
          "y": [
           0,
           1
          ]
         },
         "xaxis": {
          "title": {
           "text": "MonthlyCharges"
          }
         },
         "yaxis": {
          "title": {
           "text": "tenure"
          }
         },
         "zaxis": {
          "title": {
           "text": "TotalCharges"
          }
         }
        },
        "template": {
         "data": {
          "bar": [
           {
            "error_x": {
             "color": "#2a3f5f"
            },
            "error_y": {
             "color": "#2a3f5f"
            },
            "marker": {
             "line": {
              "color": "#E5ECF6",
              "width": 0.5
             },
             "pattern": {
              "fillmode": "overlay",
              "size": 10,
              "solidity": 0.2
             }
            },
            "type": "bar"
           }
          ],
          "barpolar": [
           {
            "marker": {
             "line": {
              "color": "#E5ECF6",
              "width": 0.5
             },
             "pattern": {
              "fillmode": "overlay",
              "size": 10,
              "solidity": 0.2
             }
            },
            "type": "barpolar"
           }
          ],
          "carpet": [
           {
            "aaxis": {
             "endlinecolor": "#2a3f5f",
             "gridcolor": "white",
             "linecolor": "white",
             "minorgridcolor": "white",
             "startlinecolor": "#2a3f5f"
            },
            "baxis": {
             "endlinecolor": "#2a3f5f",
             "gridcolor": "white",
             "linecolor": "white",
             "minorgridcolor": "white",
             "startlinecolor": "#2a3f5f"
            },
            "type": "carpet"
           }
          ],
          "choropleth": [
           {
            "colorbar": {
             "outlinewidth": 0,
             "ticks": ""
            },
            "type": "choropleth"
           }
          ],
          "contour": [
           {
            "colorbar": {
             "outlinewidth": 0,
             "ticks": ""
            },
            "colorscale": [
             [
              0,
              "#0d0887"
             ],
             [
              0.1111111111111111,
              "#46039f"
             ],
             [
              0.2222222222222222,
              "#7201a8"
             ],
             [
              0.3333333333333333,
              "#9c179e"
             ],
             [
              0.4444444444444444,
              "#bd3786"
             ],
             [
              0.5555555555555556,
              "#d8576b"
             ],
             [
              0.6666666666666666,
              "#ed7953"
             ],
             [
              0.7777777777777778,
              "#fb9f3a"
             ],
             [
              0.8888888888888888,
              "#fdca26"
             ],
             [
              1,
              "#f0f921"
             ]
            ],
            "type": "contour"
           }
          ],
          "contourcarpet": [
           {
            "colorbar": {
             "outlinewidth": 0,
             "ticks": ""
            },
            "type": "contourcarpet"
           }
          ],
          "heatmap": [
           {
            "colorbar": {
             "outlinewidth": 0,
             "ticks": ""
            },
            "colorscale": [
             [
              0,
              "#0d0887"
             ],
             [
              0.1111111111111111,
              "#46039f"
             ],
             [
              0.2222222222222222,
              "#7201a8"
             ],
             [
              0.3333333333333333,
              "#9c179e"
             ],
             [
              0.4444444444444444,
              "#bd3786"
             ],
             [
              0.5555555555555556,
              "#d8576b"
             ],
             [
              0.6666666666666666,
              "#ed7953"
             ],
             [
              0.7777777777777778,
              "#fb9f3a"
             ],
             [
              0.8888888888888888,
              "#fdca26"
             ],
             [
              1,
              "#f0f921"
             ]
            ],
            "type": "heatmap"
           }
          ],
          "histogram": [
           {
            "marker": {
             "pattern": {
              "fillmode": "overlay",
              "size": 10,
              "solidity": 0.2
             }
            },
            "type": "histogram"
           }
          ],
          "histogram2d": [
           {
            "colorbar": {
             "outlinewidth": 0,
             "ticks": ""
            },
            "colorscale": [
             [
              0,
              "#0d0887"
             ],
             [
              0.1111111111111111,
              "#46039f"
             ],
             [
              0.2222222222222222,
              "#7201a8"
             ],
             [
              0.3333333333333333,
              "#9c179e"
             ],
             [
              0.4444444444444444,
              "#bd3786"
             ],
             [
              0.5555555555555556,
              "#d8576b"
             ],
             [
              0.6666666666666666,
              "#ed7953"
             ],
             [
              0.7777777777777778,
              "#fb9f3a"
             ],
             [
              0.8888888888888888,
              "#fdca26"
             ],
             [
              1,
              "#f0f921"
             ]
            ],
            "type": "histogram2d"
           }
          ],
          "histogram2dcontour": [
           {
            "colorbar": {
             "outlinewidth": 0,
             "ticks": ""
            },
            "colorscale": [
             [
              0,
              "#0d0887"
             ],
             [
              0.1111111111111111,
              "#46039f"
             ],
             [
              0.2222222222222222,
              "#7201a8"
             ],
             [
              0.3333333333333333,
              "#9c179e"
             ],
             [
              0.4444444444444444,
              "#bd3786"
             ],
             [
              0.5555555555555556,
              "#d8576b"
             ],
             [
              0.6666666666666666,
              "#ed7953"
             ],
             [
              0.7777777777777778,
              "#fb9f3a"
             ],
             [
              0.8888888888888888,
              "#fdca26"
             ],
             [
              1,
              "#f0f921"
             ]
            ],
            "type": "histogram2dcontour"
           }
          ],
          "mesh3d": [
           {
            "colorbar": {
             "outlinewidth": 0,
             "ticks": ""
            },
            "type": "mesh3d"
           }
          ],
          "parcoords": [
           {
            "line": {
             "colorbar": {
              "outlinewidth": 0,
              "ticks": ""
             }
            },
            "type": "parcoords"
           }
          ],
          "pie": [
           {
            "automargin": true,
            "type": "pie"
           }
          ],
          "scatter": [
           {
            "fillpattern": {
             "fillmode": "overlay",
             "size": 10,
             "solidity": 0.2
            },
            "type": "scatter"
           }
          ],
          "scatter3d": [
           {
            "line": {
             "colorbar": {
              "outlinewidth": 0,
              "ticks": ""
             }
            },
            "marker": {
             "colorbar": {
              "outlinewidth": 0,
              "ticks": ""
             }
            },
            "type": "scatter3d"
           }
          ],
          "scattercarpet": [
           {
            "marker": {
             "colorbar": {
              "outlinewidth": 0,
              "ticks": ""
             }
            },
            "type": "scattercarpet"
           }
          ],
          "scattergeo": [
           {
            "marker": {
             "colorbar": {
              "outlinewidth": 0,
              "ticks": ""
             }
            },
            "type": "scattergeo"
           }
          ],
          "scattergl": [
           {
            "marker": {
             "colorbar": {
              "outlinewidth": 0,
              "ticks": ""
             }
            },
            "type": "scattergl"
           }
          ],
          "scattermap": [
           {
            "marker": {
             "colorbar": {
              "outlinewidth": 0,
              "ticks": ""
             }
            },
            "type": "scattermap"
           }
          ],
          "scattermapbox": [
           {
            "marker": {
             "colorbar": {
              "outlinewidth": 0,
              "ticks": ""
             }
            },
            "type": "scattermapbox"
           }
          ],
          "scatterpolar": [
           {
            "marker": {
             "colorbar": {
              "outlinewidth": 0,
              "ticks": ""
             }
            },
            "type": "scatterpolar"
           }
          ],
          "scatterpolargl": [
           {
            "marker": {
             "colorbar": {
              "outlinewidth": 0,
              "ticks": ""
             }
            },
            "type": "scatterpolargl"
           }
          ],
          "scatterternary": [
           {
            "marker": {
             "colorbar": {
              "outlinewidth": 0,
              "ticks": ""
             }
            },
            "type": "scatterternary"
           }
          ],
          "surface": [
           {
            "colorbar": {
             "outlinewidth": 0,
             "ticks": ""
            },
            "colorscale": [
             [
              0,
              "#0d0887"
             ],
             [
              0.1111111111111111,
              "#46039f"
             ],
             [
              0.2222222222222222,
              "#7201a8"
             ],
             [
              0.3333333333333333,
              "#9c179e"
             ],
             [
              0.4444444444444444,
              "#bd3786"
             ],
             [
              0.5555555555555556,
              "#d8576b"
             ],
             [
              0.6666666666666666,
              "#ed7953"
             ],
             [
              0.7777777777777778,
              "#fb9f3a"
             ],
             [
              0.8888888888888888,
              "#fdca26"
             ],
             [
              1,
              "#f0f921"
             ]
            ],
            "type": "surface"
           }
          ],
          "table": [
           {
            "cells": {
             "fill": {
              "color": "#EBF0F8"
             },
             "line": {
              "color": "white"
             }
            },
            "header": {
             "fill": {
              "color": "#C8D4E3"
             },
             "line": {
              "color": "white"
             }
            },
            "type": "table"
           }
          ]
         },
         "layout": {
          "annotationdefaults": {
           "arrowcolor": "#2a3f5f",
           "arrowhead": 0,
           "arrowwidth": 1
          },
          "autotypenumbers": "strict",
          "coloraxis": {
           "colorbar": {
            "outlinewidth": 0,
            "ticks": ""
           }
          },
          "colorscale": {
           "diverging": [
            [
             0,
             "#8e0152"
            ],
            [
             0.1,
             "#c51b7d"
            ],
            [
             0.2,
             "#de77ae"
            ],
            [
             0.3,
             "#f1b6da"
            ],
            [
             0.4,
             "#fde0ef"
            ],
            [
             0.5,
             "#f7f7f7"
            ],
            [
             0.6,
             "#e6f5d0"
            ],
            [
             0.7,
             "#b8e186"
            ],
            [
             0.8,
             "#7fbc41"
            ],
            [
             0.9,
             "#4d9221"
            ],
            [
             1,
             "#276419"
            ]
           ],
           "sequential": [
            [
             0,
             "#0d0887"
            ],
            [
             0.1111111111111111,
             "#46039f"
            ],
            [
             0.2222222222222222,
             "#7201a8"
            ],
            [
             0.3333333333333333,
             "#9c179e"
            ],
            [
             0.4444444444444444,
             "#bd3786"
            ],
            [
             0.5555555555555556,
             "#d8576b"
            ],
            [
             0.6666666666666666,
             "#ed7953"
            ],
            [
             0.7777777777777778,
             "#fb9f3a"
            ],
            [
             0.8888888888888888,
             "#fdca26"
            ],
            [
             1,
             "#f0f921"
            ]
           ],
           "sequentialminus": [
            [
             0,
             "#0d0887"
            ],
            [
             0.1111111111111111,
             "#46039f"
            ],
            [
             0.2222222222222222,
             "#7201a8"
            ],
            [
             0.3333333333333333,
             "#9c179e"
            ],
            [
             0.4444444444444444,
             "#bd3786"
            ],
            [
             0.5555555555555556,
             "#d8576b"
            ],
            [
             0.6666666666666666,
             "#ed7953"
            ],
            [
             0.7777777777777778,
             "#fb9f3a"
            ],
            [
             0.8888888888888888,
             "#fdca26"
            ],
            [
             1,
             "#f0f921"
            ]
           ]
          },
          "colorway": [
           "#636efa",
           "#EF553B",
           "#00cc96",
           "#ab63fa",
           "#FFA15A",
           "#19d3f3",
           "#FF6692",
           "#B6E880",
           "#FF97FF",
           "#FECB52"
          ],
          "font": {
           "color": "#2a3f5f"
          },
          "geo": {
           "bgcolor": "white",
           "lakecolor": "white",
           "landcolor": "#E5ECF6",
           "showlakes": true,
           "showland": true,
           "subunitcolor": "white"
          },
          "hoverlabel": {
           "align": "left"
          },
          "hovermode": "closest",
          "mapbox": {
           "style": "light"
          },
          "paper_bgcolor": "white",
          "plot_bgcolor": "#E5ECF6",
          "polar": {
           "angularaxis": {
            "gridcolor": "white",
            "linecolor": "white",
            "ticks": ""
           },
           "bgcolor": "#E5ECF6",
           "radialaxis": {
            "gridcolor": "white",
            "linecolor": "white",
            "ticks": ""
           }
          },
          "scene": {
           "xaxis": {
            "backgroundcolor": "#E5ECF6",
            "gridcolor": "white",
            "gridwidth": 2,
            "linecolor": "white",
            "showbackground": true,
            "ticks": "",
            "zerolinecolor": "white"
           },
           "yaxis": {
            "backgroundcolor": "#E5ECF6",
            "gridcolor": "white",
            "gridwidth": 2,
            "linecolor": "white",
            "showbackground": true,
            "ticks": "",
            "zerolinecolor": "white"
           },
           "zaxis": {
            "backgroundcolor": "#E5ECF6",
            "gridcolor": "white",
            "gridwidth": 2,
            "linecolor": "white",
            "showbackground": true,
            "ticks": "",
            "zerolinecolor": "white"
           }
          },
          "shapedefaults": {
           "line": {
            "color": "#2a3f5f"
           }
          },
          "ternary": {
           "aaxis": {
            "gridcolor": "white",
            "linecolor": "white",
            "ticks": ""
           },
           "baxis": {
            "gridcolor": "white",
            "linecolor": "white",
            "ticks": ""
           },
           "bgcolor": "#E5ECF6",
           "caxis": {
            "gridcolor": "white",
            "linecolor": "white",
            "ticks": ""
           }
          },
          "title": {
           "x": 0.05
          },
          "xaxis": {
           "automargin": true,
           "gridcolor": "white",
           "linecolor": "white",
           "ticks": "",
           "title": {
            "standoff": 15
           },
           "zerolinecolor": "white",
           "zerolinewidth": 2
          },
          "yaxis": {
           "automargin": true,
           "gridcolor": "white",
           "linecolor": "white",
           "ticks": "",
           "title": {
            "standoff": 15
           },
           "zerolinecolor": "white",
           "zerolinewidth": 2
          }
         }
        },
        "title": {
         "text": "Customer Segmentation (3D View)"
        }
       }
      }
     },
     "metadata": {},
     "output_type": "display_data"
    }
   ],
   "source": [
    "from sklearn.cluster import KMeans\n",
    "\n",
    "kmeans = KMeans(n_clusters=3, random_state=42)\n",
    "clusters = kmeans.fit_predict(X_scaled)\n",
    "df['Segment'] = clusters\n",
    "\n",
    "px.scatter_3d(df, x='MonthlyCharges', y='tenure', z='TotalCharges',\n",
    "              color='Segment', title=\"Customer Segmentation (3D View)\")\n"
   ]
  },
  {
   "cell_type": "code",
   "execution_count": 12,
   "id": "7a402866",
   "metadata": {},
   "outputs": [],
   "source": [
    "import joblib\n",
    "\n",
    "# After training your model\n",
    "import pickle\n",
    "\n",
    "with open(\"model.pkl\", \"wb\") as f:\n",
    "    pickle.dump(models, f)\n",
    "\n",
    "# Save scaler (for dashboard usewith open(\"telco_churn_model.pkl\", \"wb\") as f:)\n",
    "joblib.dump(scaler, 'scaler.pkl')\n",
    "\n",
    "# Save columns (important for dashboard input processing)\n",
    "import json\n",
    "with open('model_columns.json', 'w') as f:\n",
    "    json.dump(list(X.columns), f)\n"
   ]
  },
  {
   "cell_type": "code",
   "execution_count": 13,
   "id": "514a9092",
   "metadata": {},
   "outputs": [
    {
     "data": {
      "text/plain": [
       "['y_test.pkl']"
      ]
     },
     "execution_count": 13,
     "metadata": {},
     "output_type": "execute_result"
    }
   ],
   "source": [
    "joblib.dump(X_test, \"X_test.pkl\")\n",
    "joblib.dump(y_test, \"y_test.pkl\")\n"
   ]
  },
  {
   "cell_type": "code",
   "execution_count": 14,
   "id": "dbdf33b4",
   "metadata": {},
   "outputs": [
    {
     "name": "stdout",
     "output_type": "stream",
     "text": [
      "Type of model: <class 'list'>\n",
      "Is list? True\n"
     ]
    }
   ],
   "source": [
    "with open(\"model.pkl\", \"rb\") as f:\n",
    "    model = pickle.load(f)\n",
    "\n",
    "print(\"Type of model:\", type(model))\n",
    "print(\"Is list?\", isinstance(model, list))\n"
   ]
  },
  {
   "cell_type": "code",
   "execution_count": 15,
   "id": "3ad088c7",
   "metadata": {},
   "outputs": [],
   "source": [
    "model = model[0]  # Extract the real model\n"
   ]
  }
 ],
 "metadata": {
  "kernelspec": {
   "display_name": "churnenv",
   "language": "python",
   "name": "python3"
  },
  "language_info": {
   "codemirror_mode": {
    "name": "ipython",
    "version": 3
   },
   "file_extension": ".py",
   "mimetype": "text/x-python",
   "name": "python",
   "nbconvert_exporter": "python",
   "pygments_lexer": "ipython3",
   "version": "3.10.18"
  }
 },
 "nbformat": 4,
 "nbformat_minor": 5
}
